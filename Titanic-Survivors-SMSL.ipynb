{
 "cells": [
  {
   "cell_type": "markdown",
   "metadata": {},
   "source": [
    "# Titanic Survivors Noteboook (SageMaker Studio Lab version) #"
   ]
  },
  {
   "cell_type": "markdown",
   "metadata": {},
   "source": [
    "*Author: Dennis Adams. Previously developed at Amazon Web Services (AWS). This version used by permission.\n",
    "This notebook is free to copy. No warranty expressed or implied for the use of this notebook.\n",
    "This revision of the notebook is designed for use on **Amazon SageMaker Studio Lab.**\n",
    "Revision Date: 2023-01-06*"
   ]
  },
  {
   "cell_type": "markdown",
   "metadata": {},
   "source": [
    "This notebook is a personal project inspired by the Amazon SageMaker Data Wrangler demo: https://docs.aws.amazon.com/sagemaker/latest/dg/data-wrangler-getting-started.html which makes use of the Titanic dataset https://www.openml.org/d/40945 - This data set contains the survival status, age, gender, and class (which serves as a proxy for economic status) of passengers aboard the maiden voyage of the RMS Titanic in 1912. \n",
    "\n",
    "For further information about how to use this dataset, have a look at the competition challenge launched by Kaggle - https://www.kaggle.com/c/titanic "
   ]
  },
  {
   "cell_type": "markdown",
   "metadata": {},
   "source": [
    "This project will follow the approach of the \"Machine Learning Pipeline\" (see chapter headings)."
   ]
  },
  {
   "cell_type": "markdown",
   "metadata": {},
   "source": [
    "## Business Problem ##"
   ]
  },
  {
   "cell_type": "markdown",
   "metadata": {},
   "source": [
    "RMS Titanic sank in the early morning hours of 15 April 1912 in the North Atlantic Ocean, four days into her maiden voyage from Southampton to New York City. The largest ocean liner in service at the time, Titanic had an estimated 2,224 people on board when she struck an iceberg at around 23:40 (ship's time) on Sunday, 14 April 1912. Her sinking two hours and forty minutes later at 02:20 (ship's time; 05:18 GMT) on Monday, 15 April, resulted in the deaths of more than 1,500 people, making it one of the deadliest peacetime maritime disasters in history. https://en.wikipedia.org/wiki/Sinking_of_the_Titanic"
   ]
  },
  {
   "attachments": {
    "blueraycover.jpg": {
     "image/jpeg": "[encoded data removed]"
    }
   },
   "cell_type": "markdown",
   "metadata": {},
   "source": [
    "The 1997 Film Titanic https://www.imdb.com/title/tt0120338/ \n",
    "is an epic romance and disaster film directed, written, co-produced, and co-edited by James Cameron. Incorporating both historical and fictionalized aspects, it is based on accounts of the sinking of the RMS Titanic, and stars Leonardo DiCaprio and Kate Winslet as members of different social classes who fall in love aboard the ship during its ill-fated maiden voyage.\n",
    "\n",
    "![blueraycover.jpg](attachment:blueraycover.jpg)"
   ]
  },
  {
   "cell_type": "markdown",
   "metadata": {},
   "source": [
    "In the film, Jack (Leonardo DiCaprio) dies in the water, and Rose (Kate Winslet) is picked up by a life raft and survives. But would they have survived in real life? The business objective of this project is to build a machine learning model to predict whether Leonardo DiCaprio and Kate Winslet would have survived the Titanic in real life."
   ]
  },
  {
   "cell_type": "markdown",
   "metadata": {},
   "source": [
    "This would be a valid Machine Learning problem because of the number of variables (features) involved, such as the class of passenger, age, sex and background. "
   ]
  },
  {
   "cell_type": "markdown",
   "metadata": {},
   "source": [
    "## Problem Formulation ##"
   ]
  },
  {
   "cell_type": "markdown",
   "metadata": {},
   "source": [
    "The goal is to produce a machine learning model which correctly predicts the survival of real people. An accuracy of 90% is the target. Then that model will be applied to the fictional characters from the film to infer whether or not they would have survived in real life."
   ]
  },
  {
   "cell_type": "markdown",
   "metadata": {},
   "source": [
    "This would be supervised Learning model., There is a dataset of passengers who survived and those who died on the real Titanic. The \"survived\" attribute would be the label for the binary classification model."
   ]
  },
  {
   "cell_type": "markdown",
   "metadata": {},
   "source": [
    "This notebook will build and train a $\\color{red}{\\text{binary classification}}$ machine learning model.\n",
    "As this version is designed to be run on Amazon SageMaker Studio Lab ('SMSL'), it makes use of the SKLearn Linear Learner model."
   ]
  },
  {
   "cell_type": "markdown",
   "metadata": {},
   "source": [
    "## Setup ##"
   ]
  },
  {
   "cell_type": "code",
   "execution_count": 1,
   "metadata": {},
   "outputs": [],
   "source": [
    "# The import commands for all the python library functions needed.\n",
    "import io\n",
    "import csv\n",
    "import json\n",
    "import numpy as np\n",
    "import pandas as pd\n",
    "import matplotlib.pyplot as plt\n",
    "import seaborn as sns\n",
    "\n",
    "from sklearn.model_selection import train_test_split\n",
    "from sklearn import linear_model\n",
    "from sklearn.metrics import mean_squared_error, r2_score"
   ]
  },
  {
   "cell_type": "code",
   "execution_count": 2,
   "metadata": {},
   "outputs": [],
   "source": [
    "# In SMSL, the data must be stored on the local hard drive, not on an S3 bucket\n",
    "# So we do not require the code that defines an S3 bucket."
   ]
  },
  {
   "cell_type": "markdown",
   "metadata": {},
   "source": [
    "*The dataset can be downloaded from here: https://www.openml.org/d/40945 by clicking on the \"CSV\" icon on the top right of the screen.*"
   ]
  },
  {
   "cell_type": "markdown",
   "metadata": {},
   "source": [
    "In this case, you should rename the file to \"titanic.csv\" and upload it into the 'data' sub-folder, inside your 'Titanic' folder. "
   ]
  },
  {
   "cell_type": "code",
   "execution_count": 3,
   "metadata": {},
   "outputs": [],
   "source": [
    "# Folder for the source data, and locations for output data and model\n",
    "load_prefix = 'data'\n",
    "data_prefix = 'data'\n",
    "model_prefix = 'model'\n",
    "\n",
    "# Original source file\n",
    "csv_file ='titanic.csv'"
   ]
  },
  {
   "cell_type": "markdown",
   "metadata": {},
   "source": [
    "*At this point, all working variables are in place, jump to \"Model Training and Tuning\" if the data has already been processed and saved to the local hard drive.*"
   ]
  },
  {
   "cell_type": "markdown",
   "metadata": {},
   "source": [
    "## Data Collection and Integration ##"
   ]
  },
  {
   "cell_type": "code",
   "execution_count": 4,
   "metadata": {},
   "outputs": [
    {
     "name": "stdout",
     "output_type": "stream",
     "text": [
      "Data Loaded from ./data/titanic.csv\n"
     ]
    }
   ],
   "source": [
    "# Load the data into Pandas\n",
    "file_source = './{}/{}'.format(load_prefix, csv_file)\n",
    "titanic = pd.read_csv(file_source)\n",
    "print (f'Data Loaded from {file_source}')"
   ]
  },
  {
   "cell_type": "markdown",
   "metadata": {},
   "source": [
    "*It is assumed that this dataset is as complete and as accurate as possible, and that values that are indicated by \"?\" = unknown or null values can be imputed.*"
   ]
  },
  {
   "cell_type": "code",
   "execution_count": 5,
   "metadata": {},
   "outputs": [
    {
     "data": {
      "text/html": [
       "<div>\n",
       "<style scoped>\n",
       "    .dataframe tbody tr th:only-of-type {\n",
       "        vertical-align: middle;\n",
       "    }\n",
       "\n",
       "    .dataframe tbody tr th {\n",
       "        vertical-align: top;\n",
       "    }\n",
       "\n",
       "    .dataframe thead th {\n",
       "        text-align: right;\n",
       "    }\n",
       "</style>\n",
       "<table border=\"1\" class=\"dataframe\">\n",
       "  <thead>\n",
       "    <tr style=\"text-align: right;\">\n",
       "      <th></th>\n",
       "      <th>pclass</th>\n",
       "      <th>survived</th>\n",
       "      <th>name</th>\n",
       "      <th>sex</th>\n",
       "      <th>age</th>\n",
       "      <th>sibsp</th>\n",
       "      <th>parch</th>\n",
       "      <th>ticket</th>\n",
       "      <th>fare</th>\n",
       "      <th>cabin</th>\n",
       "      <th>embarked</th>\n",
       "      <th>boat</th>\n",
       "      <th>body</th>\n",
       "      <th>home.dest</th>\n",
       "    </tr>\n",
       "  </thead>\n",
       "  <tbody>\n",
       "    <tr>\n",
       "      <th>0</th>\n",
       "      <td>1</td>\n",
       "      <td>1</td>\n",
       "      <td>Allen, Miss. Elisabeth Walton</td>\n",
       "      <td>female</td>\n",
       "      <td>29</td>\n",
       "      <td>0</td>\n",
       "      <td>0</td>\n",
       "      <td>24160</td>\n",
       "      <td>211.3375</td>\n",
       "      <td>B5</td>\n",
       "      <td>S</td>\n",
       "      <td>2</td>\n",
       "      <td>?</td>\n",
       "      <td>St Louis, MO</td>\n",
       "    </tr>\n",
       "    <tr>\n",
       "      <th>1</th>\n",
       "      <td>1</td>\n",
       "      <td>1</td>\n",
       "      <td>Allison, Master. Hudson Trevor</td>\n",
       "      <td>male</td>\n",
       "      <td>0.9167</td>\n",
       "      <td>1</td>\n",
       "      <td>2</td>\n",
       "      <td>113781</td>\n",
       "      <td>151.55</td>\n",
       "      <td>C22 C26</td>\n",
       "      <td>S</td>\n",
       "      <td>11</td>\n",
       "      <td>?</td>\n",
       "      <td>Montreal, PQ / Chesterville, ON</td>\n",
       "    </tr>\n",
       "    <tr>\n",
       "      <th>2</th>\n",
       "      <td>1</td>\n",
       "      <td>0</td>\n",
       "      <td>Allison, Miss. Helen Loraine</td>\n",
       "      <td>female</td>\n",
       "      <td>2</td>\n",
       "      <td>1</td>\n",
       "      <td>2</td>\n",
       "      <td>113781</td>\n",
       "      <td>151.55</td>\n",
       "      <td>C22 C26</td>\n",
       "      <td>S</td>\n",
       "      <td>?</td>\n",
       "      <td>?</td>\n",
       "      <td>Montreal, PQ / Chesterville, ON</td>\n",
       "    </tr>\n",
       "    <tr>\n",
       "      <th>3</th>\n",
       "      <td>1</td>\n",
       "      <td>0</td>\n",
       "      <td>Allison, Mr. Hudson Joshua Creighton</td>\n",
       "      <td>male</td>\n",
       "      <td>30</td>\n",
       "      <td>1</td>\n",
       "      <td>2</td>\n",
       "      <td>113781</td>\n",
       "      <td>151.55</td>\n",
       "      <td>C22 C26</td>\n",
       "      <td>S</td>\n",
       "      <td>?</td>\n",
       "      <td>135</td>\n",
       "      <td>Montreal, PQ / Chesterville, ON</td>\n",
       "    </tr>\n",
       "    <tr>\n",
       "      <th>4</th>\n",
       "      <td>1</td>\n",
       "      <td>0</td>\n",
       "      <td>Allison, Mrs. Hudson J C (Bessie Waldo Daniels)</td>\n",
       "      <td>female</td>\n",
       "      <td>25</td>\n",
       "      <td>1</td>\n",
       "      <td>2</td>\n",
       "      <td>113781</td>\n",
       "      <td>151.55</td>\n",
       "      <td>C22 C26</td>\n",
       "      <td>S</td>\n",
       "      <td>?</td>\n",
       "      <td>?</td>\n",
       "      <td>Montreal, PQ / Chesterville, ON</td>\n",
       "    </tr>\n",
       "  </tbody>\n",
       "</table>\n",
       "</div>"
      ],
      "text/plain": [
       "   pclass  survived                                             name     sex  \\\n",
       "0       1         1                    Allen, Miss. Elisabeth Walton  female   \n",
       "1       1         1                   Allison, Master. Hudson Trevor    male   \n",
       "2       1         0                     Allison, Miss. Helen Loraine  female   \n",
       "3       1         0             Allison, Mr. Hudson Joshua Creighton    male   \n",
       "4       1         0  Allison, Mrs. Hudson J C (Bessie Waldo Daniels)  female   \n",
       "\n",
       "      age  sibsp  parch  ticket      fare    cabin embarked boat body  \\\n",
       "0      29      0      0   24160  211.3375       B5        S    2    ?   \n",
       "1  0.9167      1      2  113781    151.55  C22 C26        S   11    ?   \n",
       "2       2      1      2  113781    151.55  C22 C26        S    ?    ?   \n",
       "3      30      1      2  113781    151.55  C22 C26        S    ?  135   \n",
       "4      25      1      2  113781    151.55  C22 C26        S    ?    ?   \n",
       "\n",
       "                         home.dest  \n",
       "0                     St Louis, MO  \n",
       "1  Montreal, PQ / Chesterville, ON  \n",
       "2  Montreal, PQ / Chesterville, ON  \n",
       "3  Montreal, PQ / Chesterville, ON  \n",
       "4  Montreal, PQ / Chesterville, ON  "
      ]
     },
     "execution_count": 5,
     "metadata": {},
     "output_type": "execute_result"
    }
   ],
   "source": [
    "# Have a brief look at the dataset\n",
    "titanic.head()"
   ]
  },
  {
   "cell_type": "markdown",
   "metadata": {},
   "source": [
    "*The attributes of the dataset are:*\n",
    "*    Pclass - Passenger Class (1 = 1st; 2 = 2nd; 3 = 3rd)      \n",
    "*    Survived - Survival (0 = No; 1 = Yes).    \n",
    "*    Name - Name   \n",
    "*    Sex - Sex       \n",
    "*    Age - Age   \n",
    "*    Sibsp - Number of Siblings/Spouses Aboard    \n",
    "*    Parch - Number of Parents/Children Aboard   \n",
    "*    Ticket - Ticket Number   \n",
    "*    Fare - Passenger Fare   \n",
    "*    Cabin - Cabin   \n",
    "*    Embarked - Port of Embarkation (C = Cherbourg; Q = Queenstown; S = Southampton)"
   ]
  },
  {
   "cell_type": "code",
   "execution_count": 6,
   "metadata": {
    "scrolled": true
   },
   "outputs": [
    {
     "name": "stdout",
     "output_type": "stream",
     "text": [
      "<class 'pandas.core.frame.DataFrame'>\n",
      "RangeIndex: 1309 entries, 0 to 1308\n",
      "Data columns (total 14 columns):\n",
      " #   Column     Non-Null Count  Dtype \n",
      "---  ------     --------------  ----- \n",
      " 0   pclass     1309 non-null   int64 \n",
      " 1   survived   1309 non-null   int64 \n",
      " 2   name       1309 non-null   object\n",
      " 3   sex        1309 non-null   object\n",
      " 4   age        1309 non-null   object\n",
      " 5   sibsp      1309 non-null   int64 \n",
      " 6   parch      1309 non-null   int64 \n",
      " 7   ticket     1309 non-null   object\n",
      " 8   fare       1309 non-null   object\n",
      " 9   cabin      1309 non-null   object\n",
      " 10  embarked   1309 non-null   object\n",
      " 11  boat       1309 non-null   object\n",
      " 12  body       1309 non-null   object\n",
      " 13  home.dest  1309 non-null   object\n",
      "dtypes: int64(4), object(10)\n",
      "memory usage: 143.3+ KB\n"
     ]
    }
   ],
   "source": [
    "# what columns are numeric (which may be appropriate for an ML model), \n",
    "# and which are categorical 'objects' and will need processing.\n",
    "titanic.info()"
   ]
  },
  {
   "cell_type": "markdown",
   "metadata": {},
   "source": [
    "*There are 1309 records from passengers on the Titanic, the 'survived' feature (the label) and 13 other features that may contribute to the model. The 'age' feature is an 'object' because some rows have a non-numeric text - this will need to be addressed. 'fare' is also an 'object' - it will be necessary to find out why this is not a numeric column.*"
   ]
  },
  {
   "cell_type": "code",
   "execution_count": 7,
   "metadata": {},
   "outputs": [
    {
     "data": {
      "text/html": [
       "<div>\n",
       "<style scoped>\n",
       "    .dataframe tbody tr th:only-of-type {\n",
       "        vertical-align: middle;\n",
       "    }\n",
       "\n",
       "    .dataframe tbody tr th {\n",
       "        vertical-align: top;\n",
       "    }\n",
       "\n",
       "    .dataframe thead th {\n",
       "        text-align: right;\n",
       "    }\n",
       "</style>\n",
       "<table border=\"1\" class=\"dataframe\">\n",
       "  <thead>\n",
       "    <tr style=\"text-align: right;\">\n",
       "      <th></th>\n",
       "      <th>pclass</th>\n",
       "      <th>survived</th>\n",
       "      <th>name</th>\n",
       "      <th>sex</th>\n",
       "      <th>age</th>\n",
       "      <th>sibsp</th>\n",
       "      <th>parch</th>\n",
       "      <th>ticket</th>\n",
       "      <th>fare</th>\n",
       "      <th>cabin</th>\n",
       "      <th>embarked</th>\n",
       "      <th>boat</th>\n",
       "      <th>body</th>\n",
       "      <th>home.dest</th>\n",
       "    </tr>\n",
       "  </thead>\n",
       "  <tbody>\n",
       "    <tr>\n",
       "      <th>count</th>\n",
       "      <td>1309.000000</td>\n",
       "      <td>1309.000000</td>\n",
       "      <td>1309</td>\n",
       "      <td>1309</td>\n",
       "      <td>1309</td>\n",
       "      <td>1309.000000</td>\n",
       "      <td>1309.000000</td>\n",
       "      <td>1309</td>\n",
       "      <td>1309</td>\n",
       "      <td>1309</td>\n",
       "      <td>1309</td>\n",
       "      <td>1309</td>\n",
       "      <td>1309</td>\n",
       "      <td>1309</td>\n",
       "    </tr>\n",
       "    <tr>\n",
       "      <th>unique</th>\n",
       "      <td>NaN</td>\n",
       "      <td>NaN</td>\n",
       "      <td>1307</td>\n",
       "      <td>2</td>\n",
       "      <td>99</td>\n",
       "      <td>NaN</td>\n",
       "      <td>NaN</td>\n",
       "      <td>929</td>\n",
       "      <td>282</td>\n",
       "      <td>187</td>\n",
       "      <td>4</td>\n",
       "      <td>28</td>\n",
       "      <td>122</td>\n",
       "      <td>370</td>\n",
       "    </tr>\n",
       "    <tr>\n",
       "      <th>top</th>\n",
       "      <td>NaN</td>\n",
       "      <td>NaN</td>\n",
       "      <td>Connolly, Miss. Kate</td>\n",
       "      <td>male</td>\n",
       "      <td>?</td>\n",
       "      <td>NaN</td>\n",
       "      <td>NaN</td>\n",
       "      <td>CA. 2343</td>\n",
       "      <td>8.05</td>\n",
       "      <td>?</td>\n",
       "      <td>S</td>\n",
       "      <td>?</td>\n",
       "      <td>?</td>\n",
       "      <td>?</td>\n",
       "    </tr>\n",
       "    <tr>\n",
       "      <th>freq</th>\n",
       "      <td>NaN</td>\n",
       "      <td>NaN</td>\n",
       "      <td>2</td>\n",
       "      <td>843</td>\n",
       "      <td>263</td>\n",
       "      <td>NaN</td>\n",
       "      <td>NaN</td>\n",
       "      <td>11</td>\n",
       "      <td>60</td>\n",
       "      <td>1014</td>\n",
       "      <td>914</td>\n",
       "      <td>823</td>\n",
       "      <td>1188</td>\n",
       "      <td>564</td>\n",
       "    </tr>\n",
       "    <tr>\n",
       "      <th>mean</th>\n",
       "      <td>2.294882</td>\n",
       "      <td>0.381971</td>\n",
       "      <td>NaN</td>\n",
       "      <td>NaN</td>\n",
       "      <td>NaN</td>\n",
       "      <td>0.498854</td>\n",
       "      <td>0.385027</td>\n",
       "      <td>NaN</td>\n",
       "      <td>NaN</td>\n",
       "      <td>NaN</td>\n",
       "      <td>NaN</td>\n",
       "      <td>NaN</td>\n",
       "      <td>NaN</td>\n",
       "      <td>NaN</td>\n",
       "    </tr>\n",
       "    <tr>\n",
       "      <th>std</th>\n",
       "      <td>0.837836</td>\n",
       "      <td>0.486055</td>\n",
       "      <td>NaN</td>\n",
       "      <td>NaN</td>\n",
       "      <td>NaN</td>\n",
       "      <td>1.041658</td>\n",
       "      <td>0.865560</td>\n",
       "      <td>NaN</td>\n",
       "      <td>NaN</td>\n",
       "      <td>NaN</td>\n",
       "      <td>NaN</td>\n",
       "      <td>NaN</td>\n",
       "      <td>NaN</td>\n",
       "      <td>NaN</td>\n",
       "    </tr>\n",
       "    <tr>\n",
       "      <th>min</th>\n",
       "      <td>1.000000</td>\n",
       "      <td>0.000000</td>\n",
       "      <td>NaN</td>\n",
       "      <td>NaN</td>\n",
       "      <td>NaN</td>\n",
       "      <td>0.000000</td>\n",
       "      <td>0.000000</td>\n",
       "      <td>NaN</td>\n",
       "      <td>NaN</td>\n",
       "      <td>NaN</td>\n",
       "      <td>NaN</td>\n",
       "      <td>NaN</td>\n",
       "      <td>NaN</td>\n",
       "      <td>NaN</td>\n",
       "    </tr>\n",
       "    <tr>\n",
       "      <th>25%</th>\n",
       "      <td>2.000000</td>\n",
       "      <td>0.000000</td>\n",
       "      <td>NaN</td>\n",
       "      <td>NaN</td>\n",
       "      <td>NaN</td>\n",
       "      <td>0.000000</td>\n",
       "      <td>0.000000</td>\n",
       "      <td>NaN</td>\n",
       "      <td>NaN</td>\n",
       "      <td>NaN</td>\n",
       "      <td>NaN</td>\n",
       "      <td>NaN</td>\n",
       "      <td>NaN</td>\n",
       "      <td>NaN</td>\n",
       "    </tr>\n",
       "    <tr>\n",
       "      <th>50%</th>\n",
       "      <td>3.000000</td>\n",
       "      <td>0.000000</td>\n",
       "      <td>NaN</td>\n",
       "      <td>NaN</td>\n",
       "      <td>NaN</td>\n",
       "      <td>0.000000</td>\n",
       "      <td>0.000000</td>\n",
       "      <td>NaN</td>\n",
       "      <td>NaN</td>\n",
       "      <td>NaN</td>\n",
       "      <td>NaN</td>\n",
       "      <td>NaN</td>\n",
       "      <td>NaN</td>\n",
       "      <td>NaN</td>\n",
       "    </tr>\n",
       "    <tr>\n",
       "      <th>75%</th>\n",
       "      <td>3.000000</td>\n",
       "      <td>1.000000</td>\n",
       "      <td>NaN</td>\n",
       "      <td>NaN</td>\n",
       "      <td>NaN</td>\n",
       "      <td>1.000000</td>\n",
       "      <td>0.000000</td>\n",
       "      <td>NaN</td>\n",
       "      <td>NaN</td>\n",
       "      <td>NaN</td>\n",
       "      <td>NaN</td>\n",
       "      <td>NaN</td>\n",
       "      <td>NaN</td>\n",
       "      <td>NaN</td>\n",
       "    </tr>\n",
       "    <tr>\n",
       "      <th>max</th>\n",
       "      <td>3.000000</td>\n",
       "      <td>1.000000</td>\n",
       "      <td>NaN</td>\n",
       "      <td>NaN</td>\n",
       "      <td>NaN</td>\n",
       "      <td>8.000000</td>\n",
       "      <td>9.000000</td>\n",
       "      <td>NaN</td>\n",
       "      <td>NaN</td>\n",
       "      <td>NaN</td>\n",
       "      <td>NaN</td>\n",
       "      <td>NaN</td>\n",
       "      <td>NaN</td>\n",
       "      <td>NaN</td>\n",
       "    </tr>\n",
       "  </tbody>\n",
       "</table>\n",
       "</div>"
      ],
      "text/plain": [
       "             pclass     survived                  name   sex   age  \\\n",
       "count   1309.000000  1309.000000                  1309  1309  1309   \n",
       "unique          NaN          NaN                  1307     2    99   \n",
       "top             NaN          NaN  Connolly, Miss. Kate  male     ?   \n",
       "freq            NaN          NaN                     2   843   263   \n",
       "mean       2.294882     0.381971                   NaN   NaN   NaN   \n",
       "std        0.837836     0.486055                   NaN   NaN   NaN   \n",
       "min        1.000000     0.000000                   NaN   NaN   NaN   \n",
       "25%        2.000000     0.000000                   NaN   NaN   NaN   \n",
       "50%        3.000000     0.000000                   NaN   NaN   NaN   \n",
       "75%        3.000000     1.000000                   NaN   NaN   NaN   \n",
       "max        3.000000     1.000000                   NaN   NaN   NaN   \n",
       "\n",
       "              sibsp        parch    ticket  fare cabin embarked  boat  body  \\\n",
       "count   1309.000000  1309.000000      1309  1309  1309     1309  1309  1309   \n",
       "unique          NaN          NaN       929   282   187        4    28   122   \n",
       "top             NaN          NaN  CA. 2343  8.05     ?        S     ?     ?   \n",
       "freq            NaN          NaN        11    60  1014      914   823  1188   \n",
       "mean       0.498854     0.385027       NaN   NaN   NaN      NaN   NaN   NaN   \n",
       "std        1.041658     0.865560       NaN   NaN   NaN      NaN   NaN   NaN   \n",
       "min        0.000000     0.000000       NaN   NaN   NaN      NaN   NaN   NaN   \n",
       "25%        0.000000     0.000000       NaN   NaN   NaN      NaN   NaN   NaN   \n",
       "50%        0.000000     0.000000       NaN   NaN   NaN      NaN   NaN   NaN   \n",
       "75%        1.000000     0.000000       NaN   NaN   NaN      NaN   NaN   NaN   \n",
       "max        8.000000     9.000000       NaN   NaN   NaN      NaN   NaN   NaN   \n",
       "\n",
       "       home.dest  \n",
       "count       1309  \n",
       "unique       370  \n",
       "top            ?  \n",
       "freq         564  \n",
       "mean         NaN  \n",
       "std          NaN  \n",
       "min          NaN  \n",
       "25%          NaN  \n",
       "50%          NaN  \n",
       "75%          NaN  \n",
       "max          NaN  "
      ]
     },
     "execution_count": 7,
     "metadata": {},
     "output_type": "execute_result"
    }
   ],
   "source": [
    "titanic.describe(include='all')"
   ]
  },
  {
   "cell_type": "markdown",
   "metadata": {},
   "source": [
    "*There may be a duplicate 'name' with Mr. James Kelly and also Miss. Kate Connolly. The 'sex' column only has two values, so that can be easily processed. The 'age' column has 99 unique values - that could be processed by binning the ages into several categories such as child/young_adult/adult. The 'embarked' feature could be a feature in the model? There are other features such as 'boat' (which lists the lifeboat people were recovered from) and 'body' (which says whether the body was recovered) that could be dropped from the datasest, since they would not influence the model.*"
   ]
  },
  {
   "cell_type": "code",
   "execution_count": 8,
   "metadata": {},
   "outputs": [
    {
     "data": {
      "text/plain": [
       "0"
      ]
     },
     "execution_count": 8,
     "metadata": {},
     "output_type": "execute_result"
    }
   ],
   "source": [
    "duplicates = titanic.duplicated()\n",
    "duplicates.sum()"
   ]
  },
  {
   "cell_type": "markdown",
   "metadata": {},
   "source": [
    "*So there are no duplicates, which means Mr. James Kelly either appears with two lots of information, or maybe there were two people with the same name and different information. Similarly with Miss. Kate Connolly.*"
   ]
  },
  {
   "cell_type": "code",
   "execution_count": 9,
   "metadata": {},
   "outputs": [
    {
     "data": {
      "text/html": [
       "<div>\n",
       "<style scoped>\n",
       "    .dataframe tbody tr th:only-of-type {\n",
       "        vertical-align: middle;\n",
       "    }\n",
       "\n",
       "    .dataframe tbody tr th {\n",
       "        vertical-align: top;\n",
       "    }\n",
       "\n",
       "    .dataframe thead th {\n",
       "        text-align: right;\n",
       "    }\n",
       "</style>\n",
       "<table border=\"1\" class=\"dataframe\">\n",
       "  <thead>\n",
       "    <tr style=\"text-align: right;\">\n",
       "      <th></th>\n",
       "      <th>pclass</th>\n",
       "      <th>survived</th>\n",
       "      <th>name</th>\n",
       "      <th>sex</th>\n",
       "      <th>age</th>\n",
       "      <th>sibsp</th>\n",
       "      <th>parch</th>\n",
       "      <th>ticket</th>\n",
       "      <th>fare</th>\n",
       "      <th>cabin</th>\n",
       "      <th>embarked</th>\n",
       "      <th>boat</th>\n",
       "      <th>body</th>\n",
       "      <th>home.dest</th>\n",
       "    </tr>\n",
       "  </thead>\n",
       "  <tbody>\n",
       "    <tr>\n",
       "      <th>924</th>\n",
       "      <td>3</td>\n",
       "      <td>0</td>\n",
       "      <td>Kelly, Mr. James</td>\n",
       "      <td>male</td>\n",
       "      <td>34.5</td>\n",
       "      <td>0</td>\n",
       "      <td>0</td>\n",
       "      <td>330911</td>\n",
       "      <td>7.8292</td>\n",
       "      <td>?</td>\n",
       "      <td>Q</td>\n",
       "      <td>?</td>\n",
       "      <td>70</td>\n",
       "      <td>?</td>\n",
       "    </tr>\n",
       "    <tr>\n",
       "      <th>925</th>\n",
       "      <td>3</td>\n",
       "      <td>0</td>\n",
       "      <td>Kelly, Mr. James</td>\n",
       "      <td>male</td>\n",
       "      <td>44</td>\n",
       "      <td>0</td>\n",
       "      <td>0</td>\n",
       "      <td>363592</td>\n",
       "      <td>8.05</td>\n",
       "      <td>?</td>\n",
       "      <td>S</td>\n",
       "      <td>?</td>\n",
       "      <td>?</td>\n",
       "      <td>?</td>\n",
       "    </tr>\n",
       "  </tbody>\n",
       "</table>\n",
       "</div>"
      ],
      "text/plain": [
       "     pclass  survived              name   sex   age  sibsp  parch  ticket  \\\n",
       "924       3         0  Kelly, Mr. James  male  34.5      0      0  330911   \n",
       "925       3         0  Kelly, Mr. James  male    44      0      0  363592   \n",
       "\n",
       "       fare cabin embarked boat body home.dest  \n",
       "924  7.8292     ?        Q    ?   70         ?  \n",
       "925    8.05     ?        S    ?    ?         ?  "
      ]
     },
     "execution_count": 9,
     "metadata": {},
     "output_type": "execute_result"
    }
   ],
   "source": [
    "# Check about Mr Kelly\n",
    "titanic[titanic['name']=='Kelly, Mr. James']"
   ]
  },
  {
   "cell_type": "code",
   "execution_count": 11,
   "metadata": {},
   "outputs": [
    {
     "data": {
      "text/html": [
       "<div>\n",
       "<style scoped>\n",
       "    .dataframe tbody tr th:only-of-type {\n",
       "        vertical-align: middle;\n",
       "    }\n",
       "\n",
       "    .dataframe tbody tr th {\n",
       "        vertical-align: top;\n",
       "    }\n",
       "\n",
       "    .dataframe thead th {\n",
       "        text-align: right;\n",
       "    }\n",
       "</style>\n",
       "<table border=\"1\" class=\"dataframe\">\n",
       "  <thead>\n",
       "    <tr style=\"text-align: right;\">\n",
       "      <th></th>\n",
       "      <th>pclass</th>\n",
       "      <th>survived</th>\n",
       "      <th>name</th>\n",
       "      <th>sex</th>\n",
       "      <th>age</th>\n",
       "      <th>sibsp</th>\n",
       "      <th>parch</th>\n",
       "      <th>ticket</th>\n",
       "      <th>fare</th>\n",
       "      <th>cabin</th>\n",
       "      <th>embarked</th>\n",
       "      <th>boat</th>\n",
       "      <th>body</th>\n",
       "      <th>home.dest</th>\n",
       "    </tr>\n",
       "  </thead>\n",
       "  <tbody>\n",
       "    <tr>\n",
       "      <th>725</th>\n",
       "      <td>3</td>\n",
       "      <td>1</td>\n",
       "      <td>Connolly, Miss. Kate</td>\n",
       "      <td>female</td>\n",
       "      <td>22</td>\n",
       "      <td>0</td>\n",
       "      <td>0</td>\n",
       "      <td>370373</td>\n",
       "      <td>7.75</td>\n",
       "      <td>?</td>\n",
       "      <td>Q</td>\n",
       "      <td>13</td>\n",
       "      <td>?</td>\n",
       "      <td>Ireland</td>\n",
       "    </tr>\n",
       "    <tr>\n",
       "      <th>726</th>\n",
       "      <td>3</td>\n",
       "      <td>0</td>\n",
       "      <td>Connolly, Miss. Kate</td>\n",
       "      <td>female</td>\n",
       "      <td>30</td>\n",
       "      <td>0</td>\n",
       "      <td>0</td>\n",
       "      <td>330972</td>\n",
       "      <td>7.6292</td>\n",
       "      <td>?</td>\n",
       "      <td>Q</td>\n",
       "      <td>?</td>\n",
       "      <td>?</td>\n",
       "      <td>Ireland</td>\n",
       "    </tr>\n",
       "  </tbody>\n",
       "</table>\n",
       "</div>"
      ],
      "text/plain": [
       "     pclass  survived                  name     sex age  sibsp  parch  ticket  \\\n",
       "725       3         1  Connolly, Miss. Kate  female  22      0      0  370373   \n",
       "726       3         0  Connolly, Miss. Kate  female  30      0      0  330972   \n",
       "\n",
       "       fare cabin embarked boat body home.dest  \n",
       "725    7.75     ?        Q   13    ?   Ireland  \n",
       "726  7.6292     ?        Q    ?    ?   Ireland  "
      ]
     },
     "execution_count": 11,
     "metadata": {},
     "output_type": "execute_result"
    }
   ],
   "source": [
    "# Check about Miss Connolly\n",
    "titanic[titanic['name']=='Connolly, Miss. Kate']"
   ]
  },
  {
   "cell_type": "code",
   "execution_count": 12,
   "metadata": {},
   "outputs": [
    {
     "data": {
      "text/plain": [
       "pclass       0\n",
       "survived     0\n",
       "name         0\n",
       "sex          0\n",
       "age          0\n",
       "sibsp        0\n",
       "parch        0\n",
       "ticket       0\n",
       "fare         0\n",
       "cabin        0\n",
       "embarked     0\n",
       "boat         0\n",
       "body         0\n",
       "home.dest    0\n",
       "dtype: int64"
      ]
     },
     "execution_count": 12,
     "metadata": {},
     "output_type": "execute_result"
    }
   ],
   "source": [
    "titanic.isnull().sum()"
   ]
  },
  {
   "cell_type": "markdown",
   "metadata": {},
   "source": [
    "*No Null entries - that makes life a bit easier*"
   ]
  },
  {
   "cell_type": "markdown",
   "metadata": {},
   "source": [
    "*However, we do have '?' characters in the dataset, which correspond to nulls instead. The occurrences are as follows:*"
   ]
  },
  {
   "cell_type": "code",
   "execution_count": 13,
   "metadata": {},
   "outputs": [
    {
     "name": "stdout",
     "output_type": "stream",
     "text": [
      "Occurrences of ? character:\n",
      "pclass         0\n",
      "survived       0\n",
      "name           0\n",
      "sex            0\n",
      "age            263\n",
      "sibsp          0\n",
      "parch          0\n",
      "ticket         0\n",
      "fare           1\n",
      "cabin          1014\n",
      "embarked       2\n",
      "boat           823\n",
      "body           1188\n",
      "home.dest      564\n"
     ]
    }
   ],
   "source": [
    "print('Occurrences of ? character:')\n",
    "for col in titanic:\n",
    "    print('{:14} {}'.format(col, len(titanic[titanic[col] == \"?\"])))"
   ]
  },
  {
   "cell_type": "markdown",
   "metadata": {},
   "source": [
    "## Data Pre-Processing and visualization ##"
   ]
  },
  {
   "cell_type": "markdown",
   "metadata": {},
   "source": [
    "*Look at the 'survived' feature, which will be the label of the dataset.*"
   ]
  },
  {
   "cell_type": "code",
   "execution_count": 14,
   "metadata": {},
   "outputs": [
    {
     "data": {
      "text/plain": [
       "0    809\n",
       "1    500\n",
       "Name: survived, dtype: int64"
      ]
     },
     "execution_count": 14,
     "metadata": {},
     "output_type": "execute_result"
    }
   ],
   "source": [
    "# Check that there is a \"balance\" between survived and died.\n",
    "titanic['survived'].value_counts()"
   ]
  },
  {
   "cell_type": "markdown",
   "metadata": {},
   "source": [
    "*Drop the 'name' feature.\n",
    "Also drop the 'boat' and 'body' features since they are not going to influence the model.\n",
    "The ticket Number and the Cabin Number are unlikely to be influencers either.\n",
    "(Although it might be worthwhile looking at the cabin number later on?)\n",
    "Home destination is not interesting at the moment.*"
   ]
  },
  {
   "cell_type": "code",
   "execution_count": 15,
   "metadata": {
    "scrolled": true
   },
   "outputs": [],
   "source": [
    "# Drop columns that are not wanted\n",
    "drop_cols = ['boat', 'body', 'name', 'ticket', 'cabin', 'home.dest']\n",
    "titanic.drop(drop_cols, axis=1,inplace=True)"
   ]
  },
  {
   "cell_type": "code",
   "execution_count": 16,
   "metadata": {},
   "outputs": [],
   "source": [
    "# Shuffle around to data to make 'survived' the leading column of the dataset ready for training\n",
    "titanic = titanic[['survived'] + [col for col in titanic.columns if col != 'survived' ]]\n",
    "titanic['survived'] = titanic['survived'].astype('int32')"
   ]
  },
  {
   "cell_type": "code",
   "execution_count": 17,
   "metadata": {},
   "outputs": [
    {
     "data": {
      "text/html": [
       "<div>\n",
       "<style scoped>\n",
       "    .dataframe tbody tr th:only-of-type {\n",
       "        vertical-align: middle;\n",
       "    }\n",
       "\n",
       "    .dataframe tbody tr th {\n",
       "        vertical-align: top;\n",
       "    }\n",
       "\n",
       "    .dataframe thead th {\n",
       "        text-align: right;\n",
       "    }\n",
       "</style>\n",
       "<table border=\"1\" class=\"dataframe\">\n",
       "  <thead>\n",
       "    <tr style=\"text-align: right;\">\n",
       "      <th></th>\n",
       "      <th>survived</th>\n",
       "      <th>pclass</th>\n",
       "      <th>sex</th>\n",
       "      <th>age</th>\n",
       "      <th>sibsp</th>\n",
       "      <th>parch</th>\n",
       "      <th>fare</th>\n",
       "      <th>embarked</th>\n",
       "    </tr>\n",
       "  </thead>\n",
       "  <tbody>\n",
       "    <tr>\n",
       "      <th>0</th>\n",
       "      <td>1</td>\n",
       "      <td>1</td>\n",
       "      <td>female</td>\n",
       "      <td>29</td>\n",
       "      <td>0</td>\n",
       "      <td>0</td>\n",
       "      <td>211.3375</td>\n",
       "      <td>S</td>\n",
       "    </tr>\n",
       "    <tr>\n",
       "      <th>1</th>\n",
       "      <td>1</td>\n",
       "      <td>1</td>\n",
       "      <td>male</td>\n",
       "      <td>0.9167</td>\n",
       "      <td>1</td>\n",
       "      <td>2</td>\n",
       "      <td>151.55</td>\n",
       "      <td>S</td>\n",
       "    </tr>\n",
       "    <tr>\n",
       "      <th>2</th>\n",
       "      <td>0</td>\n",
       "      <td>1</td>\n",
       "      <td>female</td>\n",
       "      <td>2</td>\n",
       "      <td>1</td>\n",
       "      <td>2</td>\n",
       "      <td>151.55</td>\n",
       "      <td>S</td>\n",
       "    </tr>\n",
       "    <tr>\n",
       "      <th>3</th>\n",
       "      <td>0</td>\n",
       "      <td>1</td>\n",
       "      <td>male</td>\n",
       "      <td>30</td>\n",
       "      <td>1</td>\n",
       "      <td>2</td>\n",
       "      <td>151.55</td>\n",
       "      <td>S</td>\n",
       "    </tr>\n",
       "    <tr>\n",
       "      <th>4</th>\n",
       "      <td>0</td>\n",
       "      <td>1</td>\n",
       "      <td>female</td>\n",
       "      <td>25</td>\n",
       "      <td>1</td>\n",
       "      <td>2</td>\n",
       "      <td>151.55</td>\n",
       "      <td>S</td>\n",
       "    </tr>\n",
       "  </tbody>\n",
       "</table>\n",
       "</div>"
      ],
      "text/plain": [
       "   survived  pclass     sex     age  sibsp  parch      fare embarked\n",
       "0         1       1  female      29      0      0  211.3375        S\n",
       "1         1       1    male  0.9167      1      2    151.55        S\n",
       "2         0       1  female       2      1      2    151.55        S\n",
       "3         0       1    male      30      1      2    151.55        S\n",
       "4         0       1  female      25      1      2    151.55        S"
      ]
     },
     "execution_count": 17,
     "metadata": {},
     "output_type": "execute_result"
    }
   ],
   "source": [
    "# This is what the data set now looks like:\n",
    "titanic.head()"
   ]
  },
  {
   "cell_type": "code",
   "execution_count": 18,
   "metadata": {},
   "outputs": [
    {
     "name": "stdout",
     "output_type": "stream",
     "text": [
      "pclass\n"
     ]
    },
    {
     "data": {
      "image/png": "[encoded data removed]",
      "text/plain": [
       "<Figure size 640x480 with 2 Axes>"
      ]
     },
     "metadata": {},
     "output_type": "display_data"
    },
    {
     "name": "stdout",
     "output_type": "stream",
     "text": [
      "sibsp\n"
     ]
    },
    {
     "data": {
      "image/png": "[encoded data removed]",
      "text/plain": [
       "<Figure size 640x480 with 2 Axes>"
      ]
     },
     "metadata": {},
     "output_type": "display_data"
    },
    {
     "name": "stdout",
     "output_type": "stream",
     "text": [
      "parch\n"
     ]
    },
    {
     "data": {
      "image/png": "[encoded data removed]",
      "text/plain": [
       "<Figure size 640x480 with 2 Axes>"
      ]
     },
     "metadata": {},
     "output_type": "display_data"
    }
   ],
   "source": [
    "# Do some general visualisations of the relationships of the remaining features to 'survived'\n",
    "# Firstly the numeric features\n",
    "for column in titanic.select_dtypes(exclude=['object']).columns:\n",
    "    if column != 'survived':\n",
    "        print(column)\n",
    "        hist = titanic[[column, 'survived']].hist(by='survived')\n",
    "        plt.show()"
   ]
  },
  {
   "cell_type": "code",
   "execution_count": 19,
   "metadata": {
    "scrolled": true
   },
   "outputs": [
    {
     "data": {
      "text/html": [
       "<div>\n",
       "<style scoped>\n",
       "    .dataframe tbody tr th:only-of-type {\n",
       "        vertical-align: middle;\n",
       "    }\n",
       "\n",
       "    .dataframe tbody tr th {\n",
       "        vertical-align: top;\n",
       "    }\n",
       "\n",
       "    .dataframe thead th {\n",
       "        text-align: right;\n",
       "    }\n",
       "</style>\n",
       "<table border=\"1\" class=\"dataframe\">\n",
       "  <thead>\n",
       "    <tr style=\"text-align: right;\">\n",
       "      <th>survived</th>\n",
       "      <th>0</th>\n",
       "      <th>1</th>\n",
       "    </tr>\n",
       "    <tr>\n",
       "      <th>sex</th>\n",
       "      <th></th>\n",
       "      <th></th>\n",
       "    </tr>\n",
       "  </thead>\n",
       "  <tbody>\n",
       "    <tr>\n",
       "      <th>female</th>\n",
       "      <td>0.156984</td>\n",
       "      <td>0.678</td>\n",
       "    </tr>\n",
       "    <tr>\n",
       "      <th>male</th>\n",
       "      <td>0.843016</td>\n",
       "      <td>0.322</td>\n",
       "    </tr>\n",
       "  </tbody>\n",
       "</table>\n",
       "</div>"
      ],
      "text/plain": [
       "survived         0      1\n",
       "sex                      \n",
       "female    0.156984  0.678\n",
       "male      0.843016  0.322"
      ]
     },
     "metadata": {},
     "output_type": "display_data"
    },
    {
     "data": {
      "text/html": [
       "<div>\n",
       "<style scoped>\n",
       "    .dataframe tbody tr th:only-of-type {\n",
       "        vertical-align: middle;\n",
       "    }\n",
       "\n",
       "    .dataframe tbody tr th {\n",
       "        vertical-align: top;\n",
       "    }\n",
       "\n",
       "    .dataframe thead th {\n",
       "        text-align: right;\n",
       "    }\n",
       "</style>\n",
       "<table border=\"1\" class=\"dataframe\">\n",
       "  <thead>\n",
       "    <tr style=\"text-align: right;\">\n",
       "      <th>survived</th>\n",
       "      <th>0</th>\n",
       "      <th>1</th>\n",
       "    </tr>\n",
       "    <tr>\n",
       "      <th>age</th>\n",
       "      <th></th>\n",
       "      <th></th>\n",
       "    </tr>\n",
       "  </thead>\n",
       "  <tbody>\n",
       "    <tr>\n",
       "      <th>0.1667</th>\n",
       "      <td>0.000000</td>\n",
       "      <td>0.002</td>\n",
       "    </tr>\n",
       "    <tr>\n",
       "      <th>0.3333</th>\n",
       "      <td>0.001236</td>\n",
       "      <td>0.000</td>\n",
       "    </tr>\n",
       "    <tr>\n",
       "      <th>0.4167</th>\n",
       "      <td>0.000000</td>\n",
       "      <td>0.002</td>\n",
       "    </tr>\n",
       "    <tr>\n",
       "      <th>0.6667</th>\n",
       "      <td>0.000000</td>\n",
       "      <td>0.002</td>\n",
       "    </tr>\n",
       "    <tr>\n",
       "      <th>0.75</th>\n",
       "      <td>0.001236</td>\n",
       "      <td>0.004</td>\n",
       "    </tr>\n",
       "    <tr>\n",
       "      <th>...</th>\n",
       "      <td>...</td>\n",
       "      <td>...</td>\n",
       "    </tr>\n",
       "    <tr>\n",
       "      <th>76</th>\n",
       "      <td>0.000000</td>\n",
       "      <td>0.002</td>\n",
       "    </tr>\n",
       "    <tr>\n",
       "      <th>8</th>\n",
       "      <td>0.002472</td>\n",
       "      <td>0.008</td>\n",
       "    </tr>\n",
       "    <tr>\n",
       "      <th>80</th>\n",
       "      <td>0.000000</td>\n",
       "      <td>0.002</td>\n",
       "    </tr>\n",
       "    <tr>\n",
       "      <th>9</th>\n",
       "      <td>0.007417</td>\n",
       "      <td>0.008</td>\n",
       "    </tr>\n",
       "    <tr>\n",
       "      <th>?</th>\n",
       "      <td>0.234858</td>\n",
       "      <td>0.146</td>\n",
       "    </tr>\n",
       "  </tbody>\n",
       "</table>\n",
       "<p>99 rows × 2 columns</p>\n",
       "</div>"
      ],
      "text/plain": [
       "survived         0      1\n",
       "age                      \n",
       "0.1667    0.000000  0.002\n",
       "0.3333    0.001236  0.000\n",
       "0.4167    0.000000  0.002\n",
       "0.6667    0.000000  0.002\n",
       "0.75      0.001236  0.004\n",
       "...            ...    ...\n",
       "76        0.000000  0.002\n",
       "8         0.002472  0.008\n",
       "80        0.000000  0.002\n",
       "9         0.007417  0.008\n",
       "?         0.234858  0.146\n",
       "\n",
       "[99 rows x 2 columns]"
      ]
     },
     "metadata": {},
     "output_type": "display_data"
    },
    {
     "data": {
      "text/html": [
       "<div>\n",
       "<style scoped>\n",
       "    .dataframe tbody tr th:only-of-type {\n",
       "        vertical-align: middle;\n",
       "    }\n",
       "\n",
       "    .dataframe tbody tr th {\n",
       "        vertical-align: top;\n",
       "    }\n",
       "\n",
       "    .dataframe thead th {\n",
       "        text-align: right;\n",
       "    }\n",
       "</style>\n",
       "<table border=\"1\" class=\"dataframe\">\n",
       "  <thead>\n",
       "    <tr style=\"text-align: right;\">\n",
       "      <th>survived</th>\n",
       "      <th>0</th>\n",
       "      <th>1</th>\n",
       "    </tr>\n",
       "    <tr>\n",
       "      <th>fare</th>\n",
       "      <th></th>\n",
       "      <th></th>\n",
       "    </tr>\n",
       "  </thead>\n",
       "  <tbody>\n",
       "    <tr>\n",
       "      <th>0</th>\n",
       "      <td>0.018541</td>\n",
       "      <td>0.004</td>\n",
       "    </tr>\n",
       "    <tr>\n",
       "      <th>10.1708</th>\n",
       "      <td>0.001236</td>\n",
       "      <td>0.000</td>\n",
       "    </tr>\n",
       "    <tr>\n",
       "      <th>10.4625</th>\n",
       "      <td>0.002472</td>\n",
       "      <td>0.000</td>\n",
       "    </tr>\n",
       "    <tr>\n",
       "      <th>10.5</th>\n",
       "      <td>0.028430</td>\n",
       "      <td>0.024</td>\n",
       "    </tr>\n",
       "    <tr>\n",
       "      <th>10.5167</th>\n",
       "      <td>0.001236</td>\n",
       "      <td>0.000</td>\n",
       "    </tr>\n",
       "    <tr>\n",
       "      <th>...</th>\n",
       "      <td>...</td>\n",
       "      <td>...</td>\n",
       "    </tr>\n",
       "    <tr>\n",
       "      <th>9.8458</th>\n",
       "      <td>0.001236</td>\n",
       "      <td>0.000</td>\n",
       "    </tr>\n",
       "    <tr>\n",
       "      <th>90</th>\n",
       "      <td>0.001236</td>\n",
       "      <td>0.008</td>\n",
       "    </tr>\n",
       "    <tr>\n",
       "      <th>91.0792</th>\n",
       "      <td>0.000000</td>\n",
       "      <td>0.004</td>\n",
       "    </tr>\n",
       "    <tr>\n",
       "      <th>93.5</th>\n",
       "      <td>0.002472</td>\n",
       "      <td>0.004</td>\n",
       "    </tr>\n",
       "    <tr>\n",
       "      <th>?</th>\n",
       "      <td>0.001236</td>\n",
       "      <td>0.000</td>\n",
       "    </tr>\n",
       "  </tbody>\n",
       "</table>\n",
       "<p>282 rows × 2 columns</p>\n",
       "</div>"
      ],
      "text/plain": [
       "survived         0      1\n",
       "fare                     \n",
       "0         0.018541  0.004\n",
       "10.1708   0.001236  0.000\n",
       "10.4625   0.002472  0.000\n",
       "10.5      0.028430  0.024\n",
       "10.5167   0.001236  0.000\n",
       "...            ...    ...\n",
       "9.8458    0.001236  0.000\n",
       "90        0.001236  0.008\n",
       "91.0792   0.000000  0.004\n",
       "93.5      0.002472  0.004\n",
       "?         0.001236  0.000\n",
       "\n",
       "[282 rows x 2 columns]"
      ]
     },
     "metadata": {},
     "output_type": "display_data"
    },
    {
     "data": {
      "text/html": [
       "<div>\n",
       "<style scoped>\n",
       "    .dataframe tbody tr th:only-of-type {\n",
       "        vertical-align: middle;\n",
       "    }\n",
       "\n",
       "    .dataframe tbody tr th {\n",
       "        vertical-align: top;\n",
       "    }\n",
       "\n",
       "    .dataframe thead th {\n",
       "        text-align: right;\n",
       "    }\n",
       "</style>\n",
       "<table border=\"1\" class=\"dataframe\">\n",
       "  <thead>\n",
       "    <tr style=\"text-align: right;\">\n",
       "      <th>survived</th>\n",
       "      <th>0</th>\n",
       "      <th>1</th>\n",
       "    </tr>\n",
       "    <tr>\n",
       "      <th>embarked</th>\n",
       "      <th></th>\n",
       "      <th></th>\n",
       "    </tr>\n",
       "  </thead>\n",
       "  <tbody>\n",
       "    <tr>\n",
       "      <th>?</th>\n",
       "      <td>0.000000</td>\n",
       "      <td>0.004</td>\n",
       "    </tr>\n",
       "    <tr>\n",
       "      <th>C</th>\n",
       "      <td>0.148331</td>\n",
       "      <td>0.300</td>\n",
       "    </tr>\n",
       "    <tr>\n",
       "      <th>Q</th>\n",
       "      <td>0.097651</td>\n",
       "      <td>0.088</td>\n",
       "    </tr>\n",
       "    <tr>\n",
       "      <th>S</th>\n",
       "      <td>0.754017</td>\n",
       "      <td>0.608</td>\n",
       "    </tr>\n",
       "  </tbody>\n",
       "</table>\n",
       "</div>"
      ],
      "text/plain": [
       "survived         0      1\n",
       "embarked                 \n",
       "?         0.000000  0.004\n",
       "C         0.148331  0.300\n",
       "Q         0.097651  0.088\n",
       "S         0.754017  0.608"
      ]
     },
     "metadata": {},
     "output_type": "display_data"
    }
   ],
   "source": [
    "# Then also look at the relationships between non-numeric features and 'survived'\n",
    "for column in titanic.select_dtypes(include=['object']).columns:\n",
    "    if column != 'survived':\n",
    "        display(pd.crosstab(\n",
    "            index=titanic[column], columns=titanic['survived'], normalize='columns'))"
   ]
  },
  {
   "cell_type": "code",
   "execution_count": 20,
   "metadata": {},
   "outputs": [
    {
     "data": {
      "text/plain": [
       "<AxesSubplot: xlabel='embarked', ylabel='survived'>"
      ]
     },
     "execution_count": 20,
     "metadata": {},
     "output_type": "execute_result"
    },
    {
     "data": {
      "image/png": "[encoded data removed]",
      "text/plain": [
       "<Figure size 640x480 with 1 Axes>"
      ]
     },
     "metadata": {},
     "output_type": "display_data"
    }
   ],
   "source": [
    "# Some more visualisation: percentage survival rate, depending upon their sex and where they started.\n",
    "sns.barplot(x=\"embarked\", y=\"survived\", hue=\"sex\", data=titanic)"
   ]
  },
  {
   "cell_type": "code",
   "execution_count": 21,
   "metadata": {},
   "outputs": [
    {
     "data": {
      "image/png": "[encoded data removed]",
      "text/plain": [
       "<Figure size 640x480 with 1 Axes>"
      ]
     },
     "metadata": {},
     "output_type": "display_data"
    }
   ],
   "source": [
    "# some more understanding of the survival rates by class:\n",
    "sns.pointplot(x=\"pclass\", y=\"survived\", hue=\"sex\", data=titanic,\n",
    "              palette={\"male\": \"blue\", \"female\": \"pink\"},\n",
    "              markers=[\"*\", \"o\"], linestyles=[\"-\", \"--\"]);"
   ]
  },
  {
   "cell_type": "markdown",
   "metadata": {},
   "source": [
    "*'pclass' processing. This is the Passenger Class, which may be a significant feature in the model. Legend has it that first class passengers got off the Titanic, and left third class passengers to die.*"
   ]
  },
  {
   "cell_type": "code",
   "execution_count": 22,
   "metadata": {},
   "outputs": [
    {
     "data": {
      "text/plain": [
       "3    709\n",
       "1    323\n",
       "2    277\n",
       "Name: pclass, dtype: int64"
      ]
     },
     "execution_count": 22,
     "metadata": {},
     "output_type": "execute_result"
    }
   ],
   "source": [
    "# Passenger Class: Start by looking at the distribution of values. Nothing else to be done.\n",
    "titanic['pclass'].value_counts()"
   ]
  },
  {
   "cell_type": "code",
   "execution_count": 23,
   "metadata": {},
   "outputs": [],
   "source": [
    "# Make this an int32\n",
    "titanic['pclass'] = titanic['pclass'].astype('int32')"
   ]
  },
  {
   "cell_type": "markdown",
   "metadata": {},
   "source": [
    "*Assuming that women and children were allowed to the lifeboats first, I expect 'sex' to be a significant feature in the model*"
   ]
  },
  {
   "cell_type": "code",
   "execution_count": 24,
   "metadata": {},
   "outputs": [
    {
     "data": {
      "text/plain": [
       "male      843\n",
       "female    466\n",
       "Name: sex, dtype: int64"
      ]
     },
     "execution_count": 24,
     "metadata": {},
     "output_type": "execute_result"
    }
   ],
   "source": [
    "# For 'sex', confirm what all the values are.\n",
    "titanic['sex'].value_counts()"
   ]
  },
  {
   "cell_type": "code",
   "execution_count": 25,
   "metadata": {},
   "outputs": [],
   "source": [
    "# Use an inline lambda to change \"female\"/\"male\" to the values 0/1\n",
    "# Make it numeric\n",
    "mapped_sex = {'female':0, 'male':1}\n",
    "titanic['sex'] = titanic['sex'].map(lambda x: mapped_sex[x]).astype(\"int32\")"
   ]
  },
  {
   "cell_type": "markdown",
   "metadata": {},
   "source": [
    "*Think about what we can do about 'age'. This may be a significant feature in the model.*"
   ]
  },
  {
   "cell_type": "code",
   "execution_count": 26,
   "metadata": {},
   "outputs": [
    {
     "data": {
      "text/plain": [
       "?         263\n",
       "24         47\n",
       "22         43\n",
       "21         41\n",
       "30         40\n",
       "         ... \n",
       "66          1\n",
       "0.6667      1\n",
       "76          1\n",
       "67          1\n",
       "26.5        1\n",
       "Name: age, Length: 99, dtype: int64"
      ]
     },
     "execution_count": 26,
     "metadata": {},
     "output_type": "execute_result"
    }
   ],
   "source": [
    "# See what the data distribution of age looks like.\n",
    "titanic['age'].value_counts()"
   ]
  },
  {
   "cell_type": "code",
   "execution_count": 27,
   "metadata": {},
   "outputs": [
    {
     "name": "stdout",
     "output_type": "stream",
     "text": [
      "Number of ? rows: 263\n",
      "Number of 0 rows: 0\n"
     ]
    }
   ],
   "source": [
    "# What to do with all those '?' and '0'\n",
    "# Since these are 263 records inside a dataset of 1309, it would not be a good idea to discard these rows.\n",
    "# Instead, use imputation to replace with the mean, or average values.\n",
    "print('Number of ? rows: {}'.format(len(titanic[titanic['age'] == \"?\"])))\n",
    "print('Number of 0 rows: {}'.format(len(titanic[titanic['age'] == \"0\"])))"
   ]
  },
  {
   "cell_type": "code",
   "execution_count": 28,
   "metadata": {
    "scrolled": true
   },
   "outputs": [],
   "source": [
    "# Extract the data for the ages that are known, and work out the mean/average ages by sex.\n",
    "# Assume that the average ages of men and women would differ.\n",
    "# then use imputation to replace the '?' with the average for that sex\n",
    "# finally, covert all that text/object data to numbers.\n",
    "# \n",
    "# Extract the age and sex columns from the part of the dataset having numeric ages\n",
    "known_ages = titanic[['age','sex']] \n",
    "known_ages = known_ages[(known_ages['age']!='?')]"
   ]
  },
  {
   "cell_type": "code",
   "execution_count": 29,
   "metadata": {},
   "outputs": [],
   "source": [
    "# Convert the column to numeric\n",
    "known_ages = known_ages.astype ({\"age\": \"float32\"})"
   ]
  },
  {
   "cell_type": "code",
   "execution_count": 30,
   "metadata": {},
   "outputs": [
    {
     "name": "stdout",
     "output_type": "stream",
     "text": [
      "<class 'pandas.core.frame.DataFrame'>\n",
      "Int64Index: 1046 entries, 0 to 1308\n",
      "Data columns (total 2 columns):\n",
      " #   Column  Non-Null Count  Dtype  \n",
      "---  ------  --------------  -----  \n",
      " 0   age     1046 non-null   float32\n",
      " 1   sex     1046 non-null   int32  \n",
      "dtypes: float32(1), int32(1)\n",
      "memory usage: 16.3 KB\n"
     ]
    }
   ],
   "source": [
    "known_ages.info()"
   ]
  },
  {
   "cell_type": "code",
   "execution_count": 31,
   "metadata": {},
   "outputs": [
    {
     "data": {
      "text/plain": [
       "sex\n",
       "0    28.687069\n",
       "1    30.585234\n",
       "Name: age, dtype: float32"
      ]
     },
     "execution_count": 31,
     "metadata": {},
     "output_type": "execute_result"
    }
   ],
   "source": [
    "# calculate the mean age grouped by sex\n",
    "mean_ages = known_ages.groupby('sex')['age'].mean()\n",
    "mean_ages"
   ]
  },
  {
   "cell_type": "code",
   "execution_count": 32,
   "metadata": {},
   "outputs": [],
   "source": [
    "# Define a function to replace '?' with the appropriate average.\n",
    "def update_ages(age,sex):\n",
    "    if age == '?' and sex == 0:\n",
    "        age = mean_ages[0].astype(\"str\")\n",
    "    elif age == '?' and sex == 1:\n",
    "        age = mean_ages[1].astype(\"str\")\n",
    "    return age"
   ]
  },
  {
   "cell_type": "code",
   "execution_count": 33,
   "metadata": {},
   "outputs": [
    {
     "data": {
      "text/plain": [
       "30.590000    185\n",
       "28.690001     78\n",
       "24.000000     47\n",
       "22.000000     43\n",
       "21.000000     41\n",
       "            ... \n",
       "66.000000      1\n",
       "0.670000       1\n",
       "76.000000      1\n",
       "67.000000      1\n",
       "26.500000      1\n",
       "Name: age, Length: 100, dtype: int64"
      ]
     },
     "execution_count": 33,
     "metadata": {},
     "output_type": "execute_result"
    }
   ],
   "source": [
    "# Apply this function to get all the ages, then convert the feature to numeric\n",
    "titanic['age'] = titanic.apply(lambda x: update_ages(x['age'], x['sex']), axis=1)\n",
    "titanic['age'] = titanic['age'].astype('float32').round(decimals=2)\n",
    "titanic['age'].value_counts()"
   ]
  },
  {
   "cell_type": "code",
   "execution_count": 34,
   "metadata": {},
   "outputs": [
    {
     "data": {
      "text/plain": [
       "<AxesSubplot: >"
      ]
     },
     "execution_count": 34,
     "metadata": {},
     "output_type": "execute_result"
    },
    {
     "data": {
      "image/png": "[encoded data removed]",
      "text/plain": [
       "<Figure size 640x480 with 1 Axes>"
      ]
     },
     "metadata": {},
     "output_type": "display_data"
    }
   ],
   "source": [
    "# Visualize the age distribution using a box plot\n",
    "titanic.boxplot(['age'])"
   ]
  },
  {
   "cell_type": "code",
   "execution_count": 35,
   "metadata": {},
   "outputs": [
    {
     "data": {
      "text/plain": [
       "<AxesSubplot: ylabel='Frequency'>"
      ]
     },
     "execution_count": 35,
     "metadata": {},
     "output_type": "execute_result"
    },
    {
     "data": {
      "image/png": "[encoded data removed]",
      "text/plain": [
       "<Figure size 640x480 with 1 Axes>"
      ]
     },
     "metadata": {},
     "output_type": "display_data"
    }
   ],
   "source": [
    "# For completeness, visualise the histogram of distribution of ages \n",
    "# Start with women...\n",
    "titanic[titanic['sex']==0][\"age\"].plot.hist(bins=20)"
   ]
  },
  {
   "cell_type": "code",
   "execution_count": 36,
   "metadata": {},
   "outputs": [
    {
     "data": {
      "text/plain": [
       "<AxesSubplot: ylabel='Frequency'>"
      ]
     },
     "execution_count": 36,
     "metadata": {},
     "output_type": "execute_result"
    },
    {
     "data": {
      "image/png": "[encoded data removed]",
      "text/plain": [
       "<Figure size 640x480 with 1 Axes>"
      ]
     },
     "metadata": {},
     "output_type": "display_data"
    }
   ],
   "source": [
    "# and visualize the distribution of ages for men\n",
    "titanic[titanic['sex']==1][\"age\"].plot.hist(bins=20)"
   ]
  },
  {
   "cell_type": "markdown",
   "metadata": {},
   "source": [
    "*At this stage, keep ages as numeric values, rather than doing \"binning\". But that might be something to consider for a future iteration of the model*\n"
   ]
  },
  {
   "cell_type": "markdown",
   "metadata": {},
   "source": [
    "*Now think about the impact of siblings and parents. Intuitively, this could be a factor in whether or not someone survived, since families would stick together and may be more likely to find a lifeboat.*"
   ]
  },
  {
   "cell_type": "code",
   "execution_count": 37,
   "metadata": {},
   "outputs": [
    {
     "name": "stdout",
     "output_type": "stream",
     "text": [
      "sibsp\n",
      "parch\n"
     ]
    },
    {
     "data": {
      "image/png": "[encoded data removed]",
      "text/plain": [
       "<Figure size 640x480 with 1 Axes>"
      ]
     },
     "metadata": {},
     "output_type": "display_data"
    }
   ],
   "source": [
    "# Start by looking at the distribution of these features.\n",
    "for col in ['sibsp', 'parch']:\n",
    "    print(col)\n",
    "    titanic[col].plot.hist(alpha=0.7) "
   ]
  },
  {
   "cell_type": "code",
   "execution_count": 38,
   "metadata": {},
   "outputs": [
    {
     "data": {
      "text/plain": [
       "0    891\n",
       "1    319\n",
       "2     42\n",
       "4     22\n",
       "3     20\n",
       "8      9\n",
       "5      6\n",
       "Name: sibsp, dtype: int64"
      ]
     },
     "execution_count": 38,
     "metadata": {},
     "output_type": "execute_result"
    }
   ],
   "source": [
    "# Look at the distribution of siblings\n",
    "titanic['sibsp'].value_counts()"
   ]
  },
  {
   "cell_type": "code",
   "execution_count": 39,
   "metadata": {},
   "outputs": [
    {
     "data": {
      "text/plain": [
       "0    1002\n",
       "1     170\n",
       "2     113\n",
       "3       8\n",
       "4       6\n",
       "5       6\n",
       "6       2\n",
       "9       2\n",
       "Name: parch, dtype: int64"
      ]
     },
     "execution_count": 39,
     "metadata": {},
     "output_type": "execute_result"
    }
   ],
   "source": [
    "# And distribution of parents and children\n",
    "titanic['parch'].value_counts()"
   ]
  },
  {
   "cell_type": "code",
   "execution_count": 40,
   "metadata": {},
   "outputs": [],
   "source": [
    "# Recast these as int32\n",
    "titanic['sibsp'] = titanic['sibsp'].astype('int32')\n",
    "titanic['parch'] = titanic['parch'].astype('int32')"
   ]
  },
  {
   "cell_type": "markdown",
   "metadata": {},
   "source": [
    "*Fare may be in influencer - people paying more may get priority on the lifeboats.*"
   ]
  },
  {
   "cell_type": "code",
   "execution_count": 41,
   "metadata": {},
   "outputs": [
    {
     "data": {
      "text/plain": [
       "8.05       60\n",
       "13         59\n",
       "7.75       55\n",
       "26         50\n",
       "7.8958     49\n",
       "           ..\n",
       "15.05       1\n",
       "14          1\n",
       "15.5792     1\n",
       "12          1\n",
       "7.875       1\n",
       "Name: fare, Length: 282, dtype: int64"
      ]
     },
     "execution_count": 41,
     "metadata": {},
     "output_type": "execute_result"
    }
   ],
   "source": [
    "# So keep this in the model\n",
    "titanic['fare'].value_counts()"
   ]
  },
  {
   "cell_type": "code",
   "execution_count": 42,
   "metadata": {},
   "outputs": [
    {
     "data": {
      "text/plain": [
       "False"
      ]
     },
     "execution_count": 42,
     "metadata": {},
     "output_type": "execute_result"
    }
   ],
   "source": [
    "titanic['fare'].isnull().values.any()"
   ]
  },
  {
   "cell_type": "code",
   "execution_count": 43,
   "metadata": {},
   "outputs": [
    {
     "data": {
      "text/html": [
       "<div>\n",
       "<style scoped>\n",
       "    .dataframe tbody tr th:only-of-type {\n",
       "        vertical-align: middle;\n",
       "    }\n",
       "\n",
       "    .dataframe tbody tr th {\n",
       "        vertical-align: top;\n",
       "    }\n",
       "\n",
       "    .dataframe thead th {\n",
       "        text-align: right;\n",
       "    }\n",
       "</style>\n",
       "<table border=\"1\" class=\"dataframe\">\n",
       "  <thead>\n",
       "    <tr style=\"text-align: right;\">\n",
       "      <th></th>\n",
       "      <th>survived</th>\n",
       "      <th>pclass</th>\n",
       "      <th>sex</th>\n",
       "      <th>age</th>\n",
       "      <th>sibsp</th>\n",
       "      <th>parch</th>\n",
       "      <th>fare</th>\n",
       "      <th>embarked</th>\n",
       "    </tr>\n",
       "  </thead>\n",
       "  <tbody>\n",
       "    <tr>\n",
       "      <th>7</th>\n",
       "      <td>0</td>\n",
       "      <td>1</td>\n",
       "      <td>1</td>\n",
       "      <td>39.00</td>\n",
       "      <td>0</td>\n",
       "      <td>0</td>\n",
       "      <td>0</td>\n",
       "      <td>S</td>\n",
       "    </tr>\n",
       "    <tr>\n",
       "      <th>70</th>\n",
       "      <td>0</td>\n",
       "      <td>1</td>\n",
       "      <td>1</td>\n",
       "      <td>30.59</td>\n",
       "      <td>0</td>\n",
       "      <td>0</td>\n",
       "      <td>0</td>\n",
       "      <td>S</td>\n",
       "    </tr>\n",
       "    <tr>\n",
       "      <th>125</th>\n",
       "      <td>0</td>\n",
       "      <td>1</td>\n",
       "      <td>1</td>\n",
       "      <td>30.59</td>\n",
       "      <td>0</td>\n",
       "      <td>0</td>\n",
       "      <td>0</td>\n",
       "      <td>S</td>\n",
       "    </tr>\n",
       "    <tr>\n",
       "      <th>150</th>\n",
       "      <td>0</td>\n",
       "      <td>1</td>\n",
       "      <td>1</td>\n",
       "      <td>40.00</td>\n",
       "      <td>0</td>\n",
       "      <td>0</td>\n",
       "      <td>0</td>\n",
       "      <td>S</td>\n",
       "    </tr>\n",
       "    <tr>\n",
       "      <th>170</th>\n",
       "      <td>1</td>\n",
       "      <td>1</td>\n",
       "      <td>1</td>\n",
       "      <td>49.00</td>\n",
       "      <td>0</td>\n",
       "      <td>0</td>\n",
       "      <td>0</td>\n",
       "      <td>S</td>\n",
       "    </tr>\n",
       "    <tr>\n",
       "      <th>223</th>\n",
       "      <td>0</td>\n",
       "      <td>1</td>\n",
       "      <td>1</td>\n",
       "      <td>30.59</td>\n",
       "      <td>0</td>\n",
       "      <td>0</td>\n",
       "      <td>0</td>\n",
       "      <td>S</td>\n",
       "    </tr>\n",
       "    <tr>\n",
       "      <th>234</th>\n",
       "      <td>0</td>\n",
       "      <td>1</td>\n",
       "      <td>1</td>\n",
       "      <td>38.00</td>\n",
       "      <td>0</td>\n",
       "      <td>0</td>\n",
       "      <td>0</td>\n",
       "      <td>S</td>\n",
       "    </tr>\n",
       "    <tr>\n",
       "      <th>363</th>\n",
       "      <td>0</td>\n",
       "      <td>2</td>\n",
       "      <td>1</td>\n",
       "      <td>30.59</td>\n",
       "      <td>0</td>\n",
       "      <td>0</td>\n",
       "      <td>0</td>\n",
       "      <td>S</td>\n",
       "    </tr>\n",
       "    <tr>\n",
       "      <th>384</th>\n",
       "      <td>0</td>\n",
       "      <td>2</td>\n",
       "      <td>1</td>\n",
       "      <td>30.59</td>\n",
       "      <td>0</td>\n",
       "      <td>0</td>\n",
       "      <td>0</td>\n",
       "      <td>S</td>\n",
       "    </tr>\n",
       "    <tr>\n",
       "      <th>410</th>\n",
       "      <td>0</td>\n",
       "      <td>2</td>\n",
       "      <td>1</td>\n",
       "      <td>30.59</td>\n",
       "      <td>0</td>\n",
       "      <td>0</td>\n",
       "      <td>0</td>\n",
       "      <td>S</td>\n",
       "    </tr>\n",
       "    <tr>\n",
       "      <th>473</th>\n",
       "      <td>0</td>\n",
       "      <td>2</td>\n",
       "      <td>1</td>\n",
       "      <td>30.59</td>\n",
       "      <td>0</td>\n",
       "      <td>0</td>\n",
       "      <td>0</td>\n",
       "      <td>S</td>\n",
       "    </tr>\n",
       "    <tr>\n",
       "      <th>528</th>\n",
       "      <td>0</td>\n",
       "      <td>2</td>\n",
       "      <td>1</td>\n",
       "      <td>30.59</td>\n",
       "      <td>0</td>\n",
       "      <td>0</td>\n",
       "      <td>0</td>\n",
       "      <td>S</td>\n",
       "    </tr>\n",
       "    <tr>\n",
       "      <th>581</th>\n",
       "      <td>0</td>\n",
       "      <td>2</td>\n",
       "      <td>1</td>\n",
       "      <td>30.59</td>\n",
       "      <td>0</td>\n",
       "      <td>0</td>\n",
       "      <td>0</td>\n",
       "      <td>S</td>\n",
       "    </tr>\n",
       "    <tr>\n",
       "      <th>896</th>\n",
       "      <td>0</td>\n",
       "      <td>3</td>\n",
       "      <td>1</td>\n",
       "      <td>49.00</td>\n",
       "      <td>0</td>\n",
       "      <td>0</td>\n",
       "      <td>0</td>\n",
       "      <td>S</td>\n",
       "    </tr>\n",
       "    <tr>\n",
       "      <th>898</th>\n",
       "      <td>0</td>\n",
       "      <td>3</td>\n",
       "      <td>1</td>\n",
       "      <td>19.00</td>\n",
       "      <td>0</td>\n",
       "      <td>0</td>\n",
       "      <td>0</td>\n",
       "      <td>S</td>\n",
       "    </tr>\n",
       "    <tr>\n",
       "      <th>963</th>\n",
       "      <td>0</td>\n",
       "      <td>3</td>\n",
       "      <td>1</td>\n",
       "      <td>36.00</td>\n",
       "      <td>0</td>\n",
       "      <td>0</td>\n",
       "      <td>0</td>\n",
       "      <td>S</td>\n",
       "    </tr>\n",
       "    <tr>\n",
       "      <th>1254</th>\n",
       "      <td>1</td>\n",
       "      <td>3</td>\n",
       "      <td>1</td>\n",
       "      <td>25.00</td>\n",
       "      <td>0</td>\n",
       "      <td>0</td>\n",
       "      <td>0</td>\n",
       "      <td>S</td>\n",
       "    </tr>\n",
       "  </tbody>\n",
       "</table>\n",
       "</div>"
      ],
      "text/plain": [
       "      survived  pclass  sex    age  sibsp  parch fare embarked\n",
       "7            0       1    1  39.00      0      0    0        S\n",
       "70           0       1    1  30.59      0      0    0        S\n",
       "125          0       1    1  30.59      0      0    0        S\n",
       "150          0       1    1  40.00      0      0    0        S\n",
       "170          1       1    1  49.00      0      0    0        S\n",
       "223          0       1    1  30.59      0      0    0        S\n",
       "234          0       1    1  38.00      0      0    0        S\n",
       "363          0       2    1  30.59      0      0    0        S\n",
       "384          0       2    1  30.59      0      0    0        S\n",
       "410          0       2    1  30.59      0      0    0        S\n",
       "473          0       2    1  30.59      0      0    0        S\n",
       "528          0       2    1  30.59      0      0    0        S\n",
       "581          0       2    1  30.59      0      0    0        S\n",
       "896          0       3    1  49.00      0      0    0        S\n",
       "898          0       3    1  19.00      0      0    0        S\n",
       "963          0       3    1  36.00      0      0    0        S\n",
       "1254         1       3    1  25.00      0      0    0        S"
      ]
     },
     "execution_count": 43,
     "metadata": {},
     "output_type": "execute_result"
    }
   ],
   "source": [
    "# some people paid nothing?\n",
    "# Need to account for these as well...\n",
    "titanic[titanic['fare']=='0']"
   ]
  },
  {
   "cell_type": "code",
   "execution_count": 44,
   "metadata": {},
   "outputs": [
    {
     "data": {
      "text/plain": [
       "survived    17\n",
       "pclass      17\n",
       "sex         17\n",
       "age         17\n",
       "sibsp       17\n",
       "parch       17\n",
       "fare        17\n",
       "embarked    17\n",
       "dtype: int64"
      ]
     },
     "execution_count": 44,
     "metadata": {},
     "output_type": "execute_result"
    }
   ],
   "source": [
    "titanic[titanic['fare']=='0'].count()"
   ]
  },
  {
   "cell_type": "code",
   "execution_count": 45,
   "metadata": {},
   "outputs": [
    {
     "data": {
      "text/html": [
       "<div>\n",
       "<style scoped>\n",
       "    .dataframe tbody tr th:only-of-type {\n",
       "        vertical-align: middle;\n",
       "    }\n",
       "\n",
       "    .dataframe tbody tr th {\n",
       "        vertical-align: top;\n",
       "    }\n",
       "\n",
       "    .dataframe thead th {\n",
       "        text-align: right;\n",
       "    }\n",
       "</style>\n",
       "<table border=\"1\" class=\"dataframe\">\n",
       "  <thead>\n",
       "    <tr style=\"text-align: right;\">\n",
       "      <th></th>\n",
       "      <th>survived</th>\n",
       "      <th>pclass</th>\n",
       "      <th>sex</th>\n",
       "      <th>age</th>\n",
       "      <th>sibsp</th>\n",
       "      <th>parch</th>\n",
       "      <th>fare</th>\n",
       "      <th>embarked</th>\n",
       "    </tr>\n",
       "  </thead>\n",
       "  <tbody>\n",
       "    <tr>\n",
       "      <th>1225</th>\n",
       "      <td>0</td>\n",
       "      <td>3</td>\n",
       "      <td>1</td>\n",
       "      <td>60.5</td>\n",
       "      <td>0</td>\n",
       "      <td>0</td>\n",
       "      <td>?</td>\n",
       "      <td>S</td>\n",
       "    </tr>\n",
       "  </tbody>\n",
       "</table>\n",
       "</div>"
      ],
      "text/plain": [
       "      survived  pclass  sex   age  sibsp  parch fare embarked\n",
       "1225         0       3    1  60.5      0      0    ?        S"
      ]
     },
     "execution_count": 45,
     "metadata": {},
     "output_type": "execute_result"
    }
   ],
   "source": [
    "# Looks like there are some strange characters in this 'fare' features, so need to identify them.\n",
    "titanic[titanic['fare']=='?']"
   ]
  },
  {
   "cell_type": "code",
   "execution_count": 46,
   "metadata": {},
   "outputs": [
    {
     "data": {
      "text/plain": [
       "fare      1291\n",
       "pclass    1291\n",
       "dtype: int64"
      ]
     },
     "execution_count": 46,
     "metadata": {},
     "output_type": "execute_result"
    }
   ],
   "source": [
    "# Replace with the average fare for that class.\n",
    "# It would be possible to drop these rows, but prefer not to lose anything from the small dataset.\n",
    "# Also get the zero fares out of the way.\n",
    "# pull out the subset of fares by class to calculate the average\n",
    "known_fares = titanic[['fare','pclass']]\n",
    "known_fares = known_fares[(known_fares['fare']!='?') & (known_fares['fare']!='0')]\n",
    "known_fares['fare'] = known_fares['fare'].astype(\"float32\")\n",
    "known_fares.count()"
   ]
  },
  {
   "cell_type": "code",
   "execution_count": 47,
   "metadata": {},
   "outputs": [
    {
     "data": {
      "text/plain": [
       "pclass\n",
       "1    89.447479\n",
       "2    21.648108\n",
       "3    13.378473\n",
       "Name: fare, dtype: float32"
      ]
     },
     "execution_count": 47,
     "metadata": {},
     "output_type": "execute_result"
    }
   ],
   "source": [
    "# calculate the average for each class.\n",
    "mean_fare = known_fares.groupby('pclass')['fare'].mean()\n",
    "mean_fare"
   ]
  },
  {
   "cell_type": "code",
   "execution_count": 48,
   "metadata": {},
   "outputs": [],
   "source": [
    "# Define a function to process this\n",
    "def update_fare(fare, pclass):\n",
    "    if fare == '?' or fare == '0':\n",
    "        fare = str(mean_fare[pclass])\n",
    "    return fare\n",
    "\n",
    "# Then do the replacement and covert all to floats with 2 decimal places.\n",
    "titanic['fare'] = titanic.apply(lambda x: update_fare(x['fare'],x['pclass']), axis=1)\n",
    "titanic['fare'] = titanic['fare'].astype('float32').round(decimals=3)"
   ]
  },
  {
   "cell_type": "code",
   "execution_count": 49,
   "metadata": {
    "scrolled": true
   },
   "outputs": [
    {
     "data": {
      "text/plain": [
       "<AxesSubplot: ylabel='Frequency'>"
      ]
     },
     "execution_count": 49,
     "metadata": {},
     "output_type": "execute_result"
    },
    {
     "data": {
      "image/png": "[encoded data removed]",
      "text/plain": [
       "<Figure size 640x480 with 1 Axes>"
      ]
     },
     "metadata": {},
     "output_type": "display_data"
    }
   ],
   "source": [
    "titanic['fare'].plot.hist(bins=40)"
   ]
  },
  {
   "cell_type": "markdown",
   "metadata": {},
   "source": [
    "*Would it make a difference where you joined the Titanic? This may be unlikely - but the correlation matrix above suggests that people joining in Southampton are more likely to not survive. So use this data in the model.*"
   ]
  },
  {
   "cell_type": "code",
   "execution_count": 50,
   "metadata": {},
   "outputs": [
    {
     "data": {
      "text/plain": [
       "S    914\n",
       "C    270\n",
       "Q    123\n",
       "?      2\n",
       "Name: embarked, dtype: int64"
      ]
     },
     "execution_count": 50,
     "metadata": {},
     "output_type": "execute_result"
    }
   ],
   "source": [
    "# Firstly, looking at the distribution of values\n",
    "titanic['embarked'].value_counts()"
   ]
  },
  {
   "cell_type": "code",
   "execution_count": 51,
   "metadata": {},
   "outputs": [
    {
     "data": {
      "text/html": [
       "<div>\n",
       "<style scoped>\n",
       "    .dataframe tbody tr th:only-of-type {\n",
       "        vertical-align: middle;\n",
       "    }\n",
       "\n",
       "    .dataframe tbody tr th {\n",
       "        vertical-align: top;\n",
       "    }\n",
       "\n",
       "    .dataframe thead th {\n",
       "        text-align: right;\n",
       "    }\n",
       "</style>\n",
       "<table border=\"1\" class=\"dataframe\">\n",
       "  <thead>\n",
       "    <tr style=\"text-align: right;\">\n",
       "      <th></th>\n",
       "      <th>survived</th>\n",
       "      <th>pclass</th>\n",
       "      <th>sex</th>\n",
       "      <th>age</th>\n",
       "      <th>sibsp</th>\n",
       "      <th>parch</th>\n",
       "      <th>fare</th>\n",
       "      <th>embarked</th>\n",
       "    </tr>\n",
       "  </thead>\n",
       "  <tbody>\n",
       "    <tr>\n",
       "      <th>168</th>\n",
       "      <td>1</td>\n",
       "      <td>1</td>\n",
       "      <td>0</td>\n",
       "      <td>38.0</td>\n",
       "      <td>0</td>\n",
       "      <td>0</td>\n",
       "      <td>80.0</td>\n",
       "      <td>?</td>\n",
       "    </tr>\n",
       "    <tr>\n",
       "      <th>284</th>\n",
       "      <td>1</td>\n",
       "      <td>1</td>\n",
       "      <td>0</td>\n",
       "      <td>62.0</td>\n",
       "      <td>0</td>\n",
       "      <td>0</td>\n",
       "      <td>80.0</td>\n",
       "      <td>?</td>\n",
       "    </tr>\n",
       "  </tbody>\n",
       "</table>\n",
       "</div>"
      ],
      "text/plain": [
       "     survived  pclass  sex   age  sibsp  parch  fare embarked\n",
       "168         1       1    0  38.0      0      0  80.0        ?\n",
       "284         1       1    0  62.0      0      0  80.0        ?"
      ]
     },
     "execution_count": 51,
     "metadata": {},
     "output_type": "execute_result"
    }
   ],
   "source": [
    "# There are two stowaways !\n",
    "titanic[titanic['embarked']=='?']"
   ]
  },
  {
   "cell_type": "code",
   "execution_count": 52,
   "metadata": {},
   "outputs": [
    {
     "data": {
      "text/plain": [
       "S    914\n",
       "C    272\n",
       "Q    123\n",
       "Name: embarked, dtype: int64"
      ]
     },
     "execution_count": 52,
     "metadata": {},
     "output_type": "execute_result"
    }
   ],
   "source": [
    "# Assume they got on board at Cherbourg\n",
    "# .. which is where the story begins.\n",
    "def update_embarked(embarked):\n",
    "    if embarked=='?':\n",
    "        embarked='C'\n",
    "    return embarked\n",
    "\n",
    "titanic['embarked']= titanic.apply(lambda x: update_embarked(x['embarked']),axis=1)\n",
    "titanic['embarked'].value_counts()"
   ]
  },
  {
   "cell_type": "code",
   "execution_count": 53,
   "metadata": {},
   "outputs": [
    {
     "data": {
      "text/html": [
       "<div>\n",
       "<style scoped>\n",
       "    .dataframe tbody tr th:only-of-type {\n",
       "        vertical-align: middle;\n",
       "    }\n",
       "\n",
       "    .dataframe tbody tr th {\n",
       "        vertical-align: top;\n",
       "    }\n",
       "\n",
       "    .dataframe thead th {\n",
       "        text-align: right;\n",
       "    }\n",
       "</style>\n",
       "<table border=\"1\" class=\"dataframe\">\n",
       "  <thead>\n",
       "    <tr style=\"text-align: right;\">\n",
       "      <th></th>\n",
       "      <th>survived</th>\n",
       "      <th>pclass</th>\n",
       "      <th>sex</th>\n",
       "      <th>age</th>\n",
       "      <th>sibsp</th>\n",
       "      <th>parch</th>\n",
       "      <th>fare</th>\n",
       "      <th>embarked</th>\n",
       "    </tr>\n",
       "  </thead>\n",
       "  <tbody>\n",
       "    <tr>\n",
       "      <th>0</th>\n",
       "      <td>1</td>\n",
       "      <td>1</td>\n",
       "      <td>0</td>\n",
       "      <td>29.00</td>\n",
       "      <td>0</td>\n",
       "      <td>0</td>\n",
       "      <td>211.337997</td>\n",
       "      <td>S</td>\n",
       "    </tr>\n",
       "    <tr>\n",
       "      <th>1</th>\n",
       "      <td>1</td>\n",
       "      <td>1</td>\n",
       "      <td>1</td>\n",
       "      <td>0.92</td>\n",
       "      <td>1</td>\n",
       "      <td>2</td>\n",
       "      <td>151.550003</td>\n",
       "      <td>S</td>\n",
       "    </tr>\n",
       "    <tr>\n",
       "      <th>2</th>\n",
       "      <td>0</td>\n",
       "      <td>1</td>\n",
       "      <td>0</td>\n",
       "      <td>2.00</td>\n",
       "      <td>1</td>\n",
       "      <td>2</td>\n",
       "      <td>151.550003</td>\n",
       "      <td>S</td>\n",
       "    </tr>\n",
       "    <tr>\n",
       "      <th>3</th>\n",
       "      <td>0</td>\n",
       "      <td>1</td>\n",
       "      <td>1</td>\n",
       "      <td>30.00</td>\n",
       "      <td>1</td>\n",
       "      <td>2</td>\n",
       "      <td>151.550003</td>\n",
       "      <td>S</td>\n",
       "    </tr>\n",
       "    <tr>\n",
       "      <th>4</th>\n",
       "      <td>0</td>\n",
       "      <td>1</td>\n",
       "      <td>0</td>\n",
       "      <td>25.00</td>\n",
       "      <td>1</td>\n",
       "      <td>2</td>\n",
       "      <td>151.550003</td>\n",
       "      <td>S</td>\n",
       "    </tr>\n",
       "    <tr>\n",
       "      <th>5</th>\n",
       "      <td>1</td>\n",
       "      <td>1</td>\n",
       "      <td>1</td>\n",
       "      <td>48.00</td>\n",
       "      <td>0</td>\n",
       "      <td>0</td>\n",
       "      <td>26.549999</td>\n",
       "      <td>S</td>\n",
       "    </tr>\n",
       "    <tr>\n",
       "      <th>6</th>\n",
       "      <td>1</td>\n",
       "      <td>1</td>\n",
       "      <td>0</td>\n",
       "      <td>63.00</td>\n",
       "      <td>1</td>\n",
       "      <td>0</td>\n",
       "      <td>77.958000</td>\n",
       "      <td>S</td>\n",
       "    </tr>\n",
       "    <tr>\n",
       "      <th>7</th>\n",
       "      <td>0</td>\n",
       "      <td>1</td>\n",
       "      <td>1</td>\n",
       "      <td>39.00</td>\n",
       "      <td>0</td>\n",
       "      <td>0</td>\n",
       "      <td>89.446999</td>\n",
       "      <td>S</td>\n",
       "    </tr>\n",
       "    <tr>\n",
       "      <th>8</th>\n",
       "      <td>1</td>\n",
       "      <td>1</td>\n",
       "      <td>0</td>\n",
       "      <td>53.00</td>\n",
       "      <td>2</td>\n",
       "      <td>0</td>\n",
       "      <td>51.479000</td>\n",
       "      <td>S</td>\n",
       "    </tr>\n",
       "    <tr>\n",
       "      <th>9</th>\n",
       "      <td>0</td>\n",
       "      <td>1</td>\n",
       "      <td>1</td>\n",
       "      <td>71.00</td>\n",
       "      <td>0</td>\n",
       "      <td>0</td>\n",
       "      <td>49.504002</td>\n",
       "      <td>C</td>\n",
       "    </tr>\n",
       "  </tbody>\n",
       "</table>\n",
       "</div>"
      ],
      "text/plain": [
       "   survived  pclass  sex    age  sibsp  parch        fare embarked\n",
       "0         1       1    0  29.00      0      0  211.337997        S\n",
       "1         1       1    1   0.92      1      2  151.550003        S\n",
       "2         0       1    0   2.00      1      2  151.550003        S\n",
       "3         0       1    1  30.00      1      2  151.550003        S\n",
       "4         0       1    0  25.00      1      2  151.550003        S\n",
       "5         1       1    1  48.00      0      0   26.549999        S\n",
       "6         1       1    0  63.00      1      0   77.958000        S\n",
       "7         0       1    1  39.00      0      0   89.446999        S\n",
       "8         1       1    0  53.00      2      0   51.479000        S\n",
       "9         0       1    1  71.00      0      0   49.504002        C"
      ]
     },
     "execution_count": 53,
     "metadata": {},
     "output_type": "execute_result"
    }
   ],
   "source": [
    "titanic.head(10)"
   ]
  },
  {
   "cell_type": "code",
   "execution_count": 54,
   "metadata": {},
   "outputs": [
    {
     "data": {
      "text/plain": [
       "survived      int32\n",
       "pclass        int32\n",
       "sex           int32\n",
       "age         float32\n",
       "sibsp         int32\n",
       "parch         int32\n",
       "fare        float32\n",
       "embarked     object\n",
       "dtype: object"
      ]
     },
     "execution_count": 54,
     "metadata": {},
     "output_type": "execute_result"
    }
   ],
   "source": [
    "titanic.dtypes"
   ]
  },
  {
   "cell_type": "code",
   "execution_count": 55,
   "metadata": {},
   "outputs": [
    {
     "data": {
      "text/html": [
       "<div>\n",
       "<style scoped>\n",
       "    .dataframe tbody tr th:only-of-type {\n",
       "        vertical-align: middle;\n",
       "    }\n",
       "\n",
       "    .dataframe tbody tr th {\n",
       "        vertical-align: top;\n",
       "    }\n",
       "\n",
       "    .dataframe thead th {\n",
       "        text-align: right;\n",
       "    }\n",
       "</style>\n",
       "<table border=\"1\" class=\"dataframe\">\n",
       "  <thead>\n",
       "    <tr style=\"text-align: right;\">\n",
       "      <th></th>\n",
       "      <th>embarked_C</th>\n",
       "      <th>embarked_Q</th>\n",
       "      <th>embarked_S</th>\n",
       "    </tr>\n",
       "  </thead>\n",
       "  <tbody>\n",
       "    <tr>\n",
       "      <th>0</th>\n",
       "      <td>0</td>\n",
       "      <td>0</td>\n",
       "      <td>1</td>\n",
       "    </tr>\n",
       "    <tr>\n",
       "      <th>1</th>\n",
       "      <td>0</td>\n",
       "      <td>0</td>\n",
       "      <td>1</td>\n",
       "    </tr>\n",
       "    <tr>\n",
       "      <th>2</th>\n",
       "      <td>0</td>\n",
       "      <td>0</td>\n",
       "      <td>1</td>\n",
       "    </tr>\n",
       "    <tr>\n",
       "      <th>3</th>\n",
       "      <td>0</td>\n",
       "      <td>0</td>\n",
       "      <td>1</td>\n",
       "    </tr>\n",
       "    <tr>\n",
       "      <th>4</th>\n",
       "      <td>0</td>\n",
       "      <td>0</td>\n",
       "      <td>1</td>\n",
       "    </tr>\n",
       "  </tbody>\n",
       "</table>\n",
       "</div>"
      ],
      "text/plain": [
       "   embarked_C  embarked_Q  embarked_S\n",
       "0           0           0           1\n",
       "1           0           0           1\n",
       "2           0           0           1\n",
       "3           0           0           1\n",
       "4           0           0           1"
      ]
     },
     "execution_count": 55,
     "metadata": {},
     "output_type": "execute_result"
    }
   ],
   "source": [
    "# Now do one-hot encoding on the 'embarked' feature\n",
    "# this will create three new features embarked_S, embarked_C and embarked_Q\n",
    "embarked_data = pd.get_dummies(titanic['embarked'],prefix='embarked',dtype='int32')\n",
    "embarked_data.head()"
   ]
  },
  {
   "cell_type": "code",
   "execution_count": 56,
   "metadata": {},
   "outputs": [
    {
     "data": {
      "text/html": [
       "<div>\n",
       "<style scoped>\n",
       "    .dataframe tbody tr th:only-of-type {\n",
       "        vertical-align: middle;\n",
       "    }\n",
       "\n",
       "    .dataframe tbody tr th {\n",
       "        vertical-align: top;\n",
       "    }\n",
       "\n",
       "    .dataframe thead th {\n",
       "        text-align: right;\n",
       "    }\n",
       "</style>\n",
       "<table border=\"1\" class=\"dataframe\">\n",
       "  <thead>\n",
       "    <tr style=\"text-align: right;\">\n",
       "      <th></th>\n",
       "      <th>survived</th>\n",
       "      <th>pclass</th>\n",
       "      <th>sex</th>\n",
       "      <th>age</th>\n",
       "      <th>sibsp</th>\n",
       "      <th>parch</th>\n",
       "      <th>fare</th>\n",
       "      <th>embarked_C</th>\n",
       "      <th>embarked_Q</th>\n",
       "      <th>embarked_S</th>\n",
       "    </tr>\n",
       "  </thead>\n",
       "  <tbody>\n",
       "    <tr>\n",
       "      <th>0</th>\n",
       "      <td>1</td>\n",
       "      <td>1</td>\n",
       "      <td>0</td>\n",
       "      <td>29.00</td>\n",
       "      <td>0</td>\n",
       "      <td>0</td>\n",
       "      <td>211.337997</td>\n",
       "      <td>0</td>\n",
       "      <td>0</td>\n",
       "      <td>1</td>\n",
       "    </tr>\n",
       "    <tr>\n",
       "      <th>1</th>\n",
       "      <td>1</td>\n",
       "      <td>1</td>\n",
       "      <td>1</td>\n",
       "      <td>0.92</td>\n",
       "      <td>1</td>\n",
       "      <td>2</td>\n",
       "      <td>151.550003</td>\n",
       "      <td>0</td>\n",
       "      <td>0</td>\n",
       "      <td>1</td>\n",
       "    </tr>\n",
       "    <tr>\n",
       "      <th>2</th>\n",
       "      <td>0</td>\n",
       "      <td>1</td>\n",
       "      <td>0</td>\n",
       "      <td>2.00</td>\n",
       "      <td>1</td>\n",
       "      <td>2</td>\n",
       "      <td>151.550003</td>\n",
       "      <td>0</td>\n",
       "      <td>0</td>\n",
       "      <td>1</td>\n",
       "    </tr>\n",
       "    <tr>\n",
       "      <th>3</th>\n",
       "      <td>0</td>\n",
       "      <td>1</td>\n",
       "      <td>1</td>\n",
       "      <td>30.00</td>\n",
       "      <td>1</td>\n",
       "      <td>2</td>\n",
       "      <td>151.550003</td>\n",
       "      <td>0</td>\n",
       "      <td>0</td>\n",
       "      <td>1</td>\n",
       "    </tr>\n",
       "    <tr>\n",
       "      <th>4</th>\n",
       "      <td>0</td>\n",
       "      <td>1</td>\n",
       "      <td>0</td>\n",
       "      <td>25.00</td>\n",
       "      <td>1</td>\n",
       "      <td>2</td>\n",
       "      <td>151.550003</td>\n",
       "      <td>0</td>\n",
       "      <td>0</td>\n",
       "      <td>1</td>\n",
       "    </tr>\n",
       "  </tbody>\n",
       "</table>\n",
       "</div>"
      ],
      "text/plain": [
       "   survived  pclass  sex    age  sibsp  parch        fare  embarked_C  \\\n",
       "0         1       1    0  29.00      0      0  211.337997           0   \n",
       "1         1       1    1   0.92      1      2  151.550003           0   \n",
       "2         0       1    0   2.00      1      2  151.550003           0   \n",
       "3         0       1    1  30.00      1      2  151.550003           0   \n",
       "4         0       1    0  25.00      1      2  151.550003           0   \n",
       "\n",
       "   embarked_Q  embarked_S  \n",
       "0           0           1  \n",
       "1           0           1  \n",
       "2           0           1  \n",
       "3           0           1  \n",
       "4           0           1  "
      ]
     },
     "execution_count": 56,
     "metadata": {},
     "output_type": "execute_result"
    }
   ],
   "source": [
    "# drop the old column and append the new ones on the end\n",
    "titanic.drop('embarked', axis=1,inplace=True)\n",
    "titanic = pd.concat([titanic, embarked_data], axis=1)\n",
    "titanic.head()"
   ]
  },
  {
   "cell_type": "markdown",
   "metadata": {},
   "source": [
    "Completed all the data cleansing and feature engineering."
   ]
  },
  {
   "cell_type": "code",
   "execution_count": 57,
   "metadata": {},
   "outputs": [
    {
     "data": {
      "text/plain": [
       "survived        int32\n",
       "pclass          int32\n",
       "sex             int32\n",
       "age           float32\n",
       "sibsp           int32\n",
       "parch           int32\n",
       "fare          float32\n",
       "embarked_C      int32\n",
       "embarked_Q      int32\n",
       "embarked_S      int32\n",
       "dtype: object"
      ]
     },
     "execution_count": 57,
     "metadata": {},
     "output_type": "execute_result"
    }
   ],
   "source": [
    "# Now all the features are in numerical format.\n",
    "titanic.dtypes"
   ]
  },
  {
   "cell_type": "code",
   "execution_count": 58,
   "metadata": {},
   "outputs": [
    {
     "data": {
      "text/html": [
       "<div>\n",
       "<style scoped>\n",
       "    .dataframe tbody tr th:only-of-type {\n",
       "        vertical-align: middle;\n",
       "    }\n",
       "\n",
       "    .dataframe tbody tr th {\n",
       "        vertical-align: top;\n",
       "    }\n",
       "\n",
       "    .dataframe thead th {\n",
       "        text-align: right;\n",
       "    }\n",
       "</style>\n",
       "<table border=\"1\" class=\"dataframe\">\n",
       "  <thead>\n",
       "    <tr style=\"text-align: right;\">\n",
       "      <th></th>\n",
       "      <th>survived</th>\n",
       "      <th>pclass</th>\n",
       "      <th>sex</th>\n",
       "      <th>age</th>\n",
       "      <th>sibsp</th>\n",
       "      <th>parch</th>\n",
       "      <th>fare</th>\n",
       "      <th>embarked_C</th>\n",
       "      <th>embarked_Q</th>\n",
       "      <th>embarked_S</th>\n",
       "    </tr>\n",
       "  </thead>\n",
       "  <tbody>\n",
       "    <tr>\n",
       "      <th>count</th>\n",
       "      <td>1309.000000</td>\n",
       "      <td>1309.000000</td>\n",
       "      <td>1309.000000</td>\n",
       "      <td>1309.000000</td>\n",
       "      <td>1309.000000</td>\n",
       "      <td>1309.000000</td>\n",
       "      <td>1309.000000</td>\n",
       "      <td>1309.000000</td>\n",
       "      <td>1309.000000</td>\n",
       "      <td>1309.000000</td>\n",
       "    </tr>\n",
       "    <tr>\n",
       "      <th>mean</th>\n",
       "      <td>0.381971</td>\n",
       "      <td>2.294882</td>\n",
       "      <td>0.644003</td>\n",
       "      <td>29.910345</td>\n",
       "      <td>0.498854</td>\n",
       "      <td>0.385027</td>\n",
       "      <td>33.898689</td>\n",
       "      <td>0.207792</td>\n",
       "      <td>0.093965</td>\n",
       "      <td>0.698243</td>\n",
       "    </tr>\n",
       "    <tr>\n",
       "      <th>std</th>\n",
       "      <td>0.486055</td>\n",
       "      <td>0.837836</td>\n",
       "      <td>0.478997</td>\n",
       "      <td>12.889201</td>\n",
       "      <td>1.041658</td>\n",
       "      <td>0.865560</td>\n",
       "      <td>51.779839</td>\n",
       "      <td>0.405882</td>\n",
       "      <td>0.291891</td>\n",
       "      <td>0.459196</td>\n",
       "    </tr>\n",
       "    <tr>\n",
       "      <th>min</th>\n",
       "      <td>0.000000</td>\n",
       "      <td>1.000000</td>\n",
       "      <td>0.000000</td>\n",
       "      <td>0.170000</td>\n",
       "      <td>0.000000</td>\n",
       "      <td>0.000000</td>\n",
       "      <td>3.171000</td>\n",
       "      <td>0.000000</td>\n",
       "      <td>0.000000</td>\n",
       "      <td>0.000000</td>\n",
       "    </tr>\n",
       "    <tr>\n",
       "      <th>25%</th>\n",
       "      <td>0.000000</td>\n",
       "      <td>2.000000</td>\n",
       "      <td>0.000000</td>\n",
       "      <td>22.000000</td>\n",
       "      <td>0.000000</td>\n",
       "      <td>0.000000</td>\n",
       "      <td>7.925000</td>\n",
       "      <td>0.000000</td>\n",
       "      <td>0.000000</td>\n",
       "      <td>0.000000</td>\n",
       "    </tr>\n",
       "    <tr>\n",
       "      <th>50%</th>\n",
       "      <td>0.000000</td>\n",
       "      <td>3.000000</td>\n",
       "      <td>1.000000</td>\n",
       "      <td>30.000000</td>\n",
       "      <td>0.000000</td>\n",
       "      <td>0.000000</td>\n",
       "      <td>14.500000</td>\n",
       "      <td>0.000000</td>\n",
       "      <td>0.000000</td>\n",
       "      <td>1.000000</td>\n",
       "    </tr>\n",
       "    <tr>\n",
       "      <th>75%</th>\n",
       "      <td>1.000000</td>\n",
       "      <td>3.000000</td>\n",
       "      <td>1.000000</td>\n",
       "      <td>35.000000</td>\n",
       "      <td>1.000000</td>\n",
       "      <td>0.000000</td>\n",
       "      <td>31.388000</td>\n",
       "      <td>0.000000</td>\n",
       "      <td>0.000000</td>\n",
       "      <td>1.000000</td>\n",
       "    </tr>\n",
       "    <tr>\n",
       "      <th>max</th>\n",
       "      <td>1.000000</td>\n",
       "      <td>3.000000</td>\n",
       "      <td>1.000000</td>\n",
       "      <td>80.000000</td>\n",
       "      <td>8.000000</td>\n",
       "      <td>9.000000</td>\n",
       "      <td>512.328979</td>\n",
       "      <td>1.000000</td>\n",
       "      <td>1.000000</td>\n",
       "      <td>1.000000</td>\n",
       "    </tr>\n",
       "  </tbody>\n",
       "</table>\n",
       "</div>"
      ],
      "text/plain": [
       "          survived       pclass          sex          age        sibsp  \\\n",
       "count  1309.000000  1309.000000  1309.000000  1309.000000  1309.000000   \n",
       "mean      0.381971     2.294882     0.644003    29.910345     0.498854   \n",
       "std       0.486055     0.837836     0.478997    12.889201     1.041658   \n",
       "min       0.000000     1.000000     0.000000     0.170000     0.000000   \n",
       "25%       0.000000     2.000000     0.000000    22.000000     0.000000   \n",
       "50%       0.000000     3.000000     1.000000    30.000000     0.000000   \n",
       "75%       1.000000     3.000000     1.000000    35.000000     1.000000   \n",
       "max       1.000000     3.000000     1.000000    80.000000     8.000000   \n",
       "\n",
       "             parch         fare   embarked_C   embarked_Q   embarked_S  \n",
       "count  1309.000000  1309.000000  1309.000000  1309.000000  1309.000000  \n",
       "mean      0.385027    33.898689     0.207792     0.093965     0.698243  \n",
       "std       0.865560    51.779839     0.405882     0.291891     0.459196  \n",
       "min       0.000000     3.171000     0.000000     0.000000     0.000000  \n",
       "25%       0.000000     7.925000     0.000000     0.000000     0.000000  \n",
       "50%       0.000000    14.500000     0.000000     0.000000     1.000000  \n",
       "75%       0.000000    31.388000     0.000000     0.000000     1.000000  \n",
       "max       9.000000   512.328979     1.000000     1.000000     1.000000  "
      ]
     },
     "execution_count": 58,
     "metadata": {},
     "output_type": "execute_result"
    }
   ],
   "source": [
    "# Check that everything is in a suitable format:\n",
    "titanic.describe(include='all')"
   ]
  },
  {
   "cell_type": "code",
   "execution_count": 59,
   "metadata": {},
   "outputs": [
    {
     "data": {
      "text/plain": [
       "<seaborn.axisgrid.PairGrid at 0x7f396e6d9f40>"
      ]
     },
     "execution_count": 59,
     "metadata": {},
     "output_type": "execute_result"
    },
    {
     "data": {
      "image/png": "[encoded data removed]",
      "text/plain": [
       "<Figure size 2500x2500 with 110 Axes>"
      ]
     },
     "metadata": {},
     "output_type": "display_data"
    }
   ],
   "source": [
    "# So have a look at the correlation of features.\n",
    "# Are there any highly correlated features which need to be removed from the model?\n",
    "sns.set(style=\"darkgrid\", context=\"notebook\")\n",
    "sns.pairplot(titanic)"
   ]
  },
  {
   "cell_type": "code",
   "execution_count": 60,
   "metadata": {},
   "outputs": [
    {
     "data": {
      "text/html": [
       "<style type=\"text/css\">\n",
       "#T_4a4f1_row0_col0, #T_4a4f1_row1_col1, #T_4a4f1_row2_col2, #T_4a4f1_row3_col3, #T_4a4f1_row4_col4, #T_4a4f1_row5_col5, #T_4a4f1_row6_col6, #T_4a4f1_row7_col7, #T_4a4f1_row8_col8, #T_4a4f1_row9_col9 {\n",
       "  background-color: #b40426;\n",
       "  color: #f1f1f1;\n",
       "}\n",
       "#T_4a4f1_row0_col1, #T_4a4f1_row7_col5 {\n",
       "  background-color: #6f92f3;\n",
       "  color: #f1f1f1;\n",
       "}\n",
       "#T_4a4f1_row0_col2, #T_4a4f1_row1_col3, #T_4a4f1_row1_col6, #T_4a4f1_row2_col0, #T_4a4f1_row2_col5, #T_4a4f1_row3_col4, #T_4a4f1_row6_col1, #T_4a4f1_row7_col9, #T_4a4f1_row9_col7, #T_4a4f1_row9_col8 {\n",
       "  background-color: #3b4cc0;\n",
       "  color: #f1f1f1;\n",
       "}\n",
       "#T_4a4f1_row0_col3, #T_4a4f1_row9_col4 {\n",
       "  background-color: #84a7fc;\n",
       "  color: #f1f1f1;\n",
       "}\n",
       "#T_4a4f1_row0_col4 {\n",
       "  background-color: #6687ed;\n",
       "  color: #f1f1f1;\n",
       "}\n",
       "#T_4a4f1_row0_col5, #T_4a4f1_row9_col0 {\n",
       "  background-color: #8badfd;\n",
       "  color: #000000;\n",
       "}\n",
       "#T_4a4f1_row0_col6 {\n",
       "  background-color: #e0dbd8;\n",
       "  color: #000000;\n",
       "}\n",
       "#T_4a4f1_row0_col7 {\n",
       "  background-color: #e7d7ce;\n",
       "  color: #000000;\n",
       "}\n",
       "#T_4a4f1_row0_col8, #T_4a4f1_row2_col3, #T_4a4f1_row3_col8 {\n",
       "  background-color: #a5c3fe;\n",
       "  color: #000000;\n",
       "}\n",
       "#T_4a4f1_row0_col9 {\n",
       "  background-color: #afcafc;\n",
       "  color: #000000;\n",
       "}\n",
       "#T_4a4f1_row1_col0 {\n",
       "  background-color: #6788ee;\n",
       "  color: #f1f1f1;\n",
       "}\n",
       "#T_4a4f1_row1_col2 {\n",
       "  background-color: #c9d7f0;\n",
       "  color: #000000;\n",
       "}\n",
       "#T_4a4f1_row1_col4 {\n",
       "  background-color: #80a3fa;\n",
       "  color: #f1f1f1;\n",
       "}\n",
       "#T_4a4f1_row1_col5, #T_4a4f1_row7_col1 {\n",
       "  background-color: #779af7;\n",
       "  color: #f1f1f1;\n",
       "}\n",
       "#T_4a4f1_row1_col7 {\n",
       "  background-color: #98b9ff;\n",
       "  color: #000000;\n",
       "}\n",
       "#T_4a4f1_row1_col8, #T_4a4f1_row3_col7, #T_4a4f1_row4_col5 {\n",
       "  background-color: #d8dce2;\n",
       "  color: #000000;\n",
       "}\n",
       "#T_4a4f1_row1_col9 {\n",
       "  background-color: #dadce0;\n",
       "  color: #000000;\n",
       "}\n",
       "#T_4a4f1_row2_col1 {\n",
       "  background-color: #cdd9ec;\n",
       "  color: #000000;\n",
       "}\n",
       "#T_4a4f1_row2_col4 {\n",
       "  background-color: #506bda;\n",
       "  color: #f1f1f1;\n",
       "}\n",
       "#T_4a4f1_row2_col6 {\n",
       "  background-color: #8db0fe;\n",
       "  color: #000000;\n",
       "}\n",
       "#T_4a4f1_row2_col7, #T_4a4f1_row6_col3 {\n",
       "  background-color: #bfd3f6;\n",
       "  color: #000000;\n",
       "}\n",
       "#T_4a4f1_row2_col8 {\n",
       "  background-color: #93b5fe;\n",
       "  color: #000000;\n",
       "}\n",
       "#T_4a4f1_row2_col9 {\n",
       "  background-color: #dedcdb;\n",
       "  color: #000000;\n",
       "}\n",
       "#T_4a4f1_row3_col0 {\n",
       "  background-color: #a2c1ff;\n",
       "  color: #000000;\n",
       "}\n",
       "#T_4a4f1_row3_col1 {\n",
       "  background-color: #6384eb;\n",
       "  color: #f1f1f1;\n",
       "}\n",
       "#T_4a4f1_row3_col2 {\n",
       "  background-color: #bed2f6;\n",
       "  color: #000000;\n",
       "}\n",
       "#T_4a4f1_row3_col5 {\n",
       "  background-color: #4e68d8;\n",
       "  color: #f1f1f1;\n",
       "}\n",
       "#T_4a4f1_row3_col6, #T_4a4f1_row5_col4 {\n",
       "  background-color: #d6dce4;\n",
       "  color: #000000;\n",
       "}\n",
       "#T_4a4f1_row3_col9, #T_4a4f1_row4_col1 {\n",
       "  background-color: #c1d4f4;\n",
       "  color: #000000;\n",
       "}\n",
       "#T_4a4f1_row4_col0 {\n",
       "  background-color: #a7c5fe;\n",
       "  color: #000000;\n",
       "}\n",
       "#T_4a4f1_row4_col2 {\n",
       "  background-color: #96b7ff;\n",
       "  color: #000000;\n",
       "}\n",
       "#T_4a4f1_row4_col3 {\n",
       "  background-color: #6282ea;\n",
       "  color: #f1f1f1;\n",
       "}\n",
       "#T_4a4f1_row4_col6 {\n",
       "  background-color: #d3dbe7;\n",
       "  color: #000000;\n",
       "}\n",
       "#T_4a4f1_row4_col7 {\n",
       "  background-color: #c3d5f4;\n",
       "  color: #000000;\n",
       "}\n",
       "#T_4a4f1_row4_col8 {\n",
       "  background-color: #9dbdff;\n",
       "  color: #000000;\n",
       "}\n",
       "#T_4a4f1_row4_col9, #T_4a4f1_row5_col9 {\n",
       "  background-color: #d7dce3;\n",
       "  color: #000000;\n",
       "}\n",
       "#T_4a4f1_row5_col0 {\n",
       "  background-color: #c0d4f5;\n",
       "  color: #000000;\n",
       "}\n",
       "#T_4a4f1_row5_col1 {\n",
       "  background-color: #b9d0f9;\n",
       "  color: #000000;\n",
       "}\n",
       "#T_4a4f1_row5_col2 {\n",
       "  background-color: #7da0f9;\n",
       "  color: #f1f1f1;\n",
       "}\n",
       "#T_4a4f1_row5_col3 {\n",
       "  background-color: #7093f3;\n",
       "  color: #f1f1f1;\n",
       "}\n",
       "#T_4a4f1_row5_col6, #T_4a4f1_row6_col0 {\n",
       "  background-color: #dddcdc;\n",
       "  color: #000000;\n",
       "}\n",
       "#T_4a4f1_row5_col7 {\n",
       "  background-color: #cad8ef;\n",
       "  color: #000000;\n",
       "}\n",
       "#T_4a4f1_row5_col8, #T_4a4f1_row9_col6 {\n",
       "  background-color: #90b2fe;\n",
       "  color: #000000;\n",
       "}\n",
       "#T_4a4f1_row6_col2 {\n",
       "  background-color: #85a8fc;\n",
       "  color: #f1f1f1;\n",
       "}\n",
       "#T_4a4f1_row6_col4 {\n",
       "  background-color: #9bbcff;\n",
       "  color: #000000;\n",
       "}\n",
       "#T_4a4f1_row6_col5 {\n",
       "  background-color: #b1cbfc;\n",
       "  color: #000000;\n",
       "}\n",
       "#T_4a4f1_row6_col7 {\n",
       "  background-color: #f1ccb8;\n",
       "  color: #000000;\n",
       "}\n",
       "#T_4a4f1_row6_col8 {\n",
       "  background-color: #89acfd;\n",
       "  color: #000000;\n",
       "}\n",
       "#T_4a4f1_row6_col9, #T_4a4f1_row8_col7 {\n",
       "  background-color: #aec9fc;\n",
       "  color: #000000;\n",
       "}\n",
       "#T_4a4f1_row7_col0 {\n",
       "  background-color: #d4dbe6;\n",
       "  color: #000000;\n",
       "}\n",
       "#T_4a4f1_row7_col2 {\n",
       "  background-color: #9ebeff;\n",
       "  color: #000000;\n",
       "}\n",
       "#T_4a4f1_row7_col3 {\n",
       "  background-color: #a9c6fd;\n",
       "  color: #000000;\n",
       "}\n",
       "#T_4a4f1_row7_col4 {\n",
       "  background-color: #5f7fe8;\n",
       "  color: #f1f1f1;\n",
       "}\n",
       "#T_4a4f1_row7_col6 {\n",
       "  background-color: #e8d6cc;\n",
       "  color: #000000;\n",
       "}\n",
       "#T_4a4f1_row7_col8 {\n",
       "  background-color: #81a4fb;\n",
       "  color: #f1f1f1;\n",
       "}\n",
       "#T_4a4f1_row8_col0 {\n",
       "  background-color: #aac7fd;\n",
       "  color: #000000;\n",
       "}\n",
       "#T_4a4f1_row8_col1 {\n",
       "  background-color: #dfdbd9;\n",
       "  color: #000000;\n",
       "}\n",
       "#T_4a4f1_row8_col2 {\n",
       "  background-color: #9abbff;\n",
       "  color: #000000;\n",
       "}\n",
       "#T_4a4f1_row8_col3 {\n",
       "  background-color: #8fb1fe;\n",
       "  color: #000000;\n",
       "}\n",
       "#T_4a4f1_row8_col4 {\n",
       "  background-color: #6180e9;\n",
       "  color: #f1f1f1;\n",
       "}\n",
       "#T_4a4f1_row8_col5 {\n",
       "  background-color: #5673e0;\n",
       "  color: #f1f1f1;\n",
       "}\n",
       "#T_4a4f1_row8_col6 {\n",
       "  background-color: #97b8ff;\n",
       "  color: #000000;\n",
       "}\n",
       "#T_4a4f1_row8_col9 {\n",
       "  background-color: #6e90f2;\n",
       "  color: #f1f1f1;\n",
       "}\n",
       "#T_4a4f1_row9_col1, #T_4a4f1_row9_col2 {\n",
       "  background-color: #c7d7f0;\n",
       "  color: #000000;\n",
       "}\n",
       "#T_4a4f1_row9_col3 {\n",
       "  background-color: #82a6fb;\n",
       "  color: #f1f1f1;\n",
       "}\n",
       "#T_4a4f1_row9_col5 {\n",
       "  background-color: #88abfd;\n",
       "  color: #000000;\n",
       "}\n",
       "</style>\n",
       "<table id=\"T_4a4f1\">\n",
       "  <thead>\n",
       "    <tr>\n",
       "      <th class=\"blank level0\" >&nbsp;</th>\n",
       "      <th id=\"T_4a4f1_level0_col0\" class=\"col_heading level0 col0\" >survived</th>\n",
       "      <th id=\"T_4a4f1_level0_col1\" class=\"col_heading level0 col1\" >pclass</th>\n",
       "      <th id=\"T_4a4f1_level0_col2\" class=\"col_heading level0 col2\" >sex</th>\n",
       "      <th id=\"T_4a4f1_level0_col3\" class=\"col_heading level0 col3\" >age</th>\n",
       "      <th id=\"T_4a4f1_level0_col4\" class=\"col_heading level0 col4\" >sibsp</th>\n",
       "      <th id=\"T_4a4f1_level0_col5\" class=\"col_heading level0 col5\" >parch</th>\n",
       "      <th id=\"T_4a4f1_level0_col6\" class=\"col_heading level0 col6\" >fare</th>\n",
       "      <th id=\"T_4a4f1_level0_col7\" class=\"col_heading level0 col7\" >embarked_C</th>\n",
       "      <th id=\"T_4a4f1_level0_col8\" class=\"col_heading level0 col8\" >embarked_Q</th>\n",
       "      <th id=\"T_4a4f1_level0_col9\" class=\"col_heading level0 col9\" >embarked_S</th>\n",
       "    </tr>\n",
       "  </thead>\n",
       "  <tbody>\n",
       "    <tr>\n",
       "      <th id=\"T_4a4f1_level0_row0\" class=\"row_heading level0 row0\" >survived</th>\n",
       "      <td id=\"T_4a4f1_row0_col0\" class=\"data row0 col0\" >1.000000</td>\n",
       "      <td id=\"T_4a4f1_row0_col1\" class=\"data row0 col1\" >-0.312469</td>\n",
       "      <td id=\"T_4a4f1_row0_col2\" class=\"data row0 col2\" >-0.528693</td>\n",
       "      <td id=\"T_4a4f1_row0_col3\" class=\"data row0 col3\" >-0.056540</td>\n",
       "      <td id=\"T_4a4f1_row0_col4\" class=\"data row0 col4\" >-0.027825</td>\n",
       "      <td id=\"T_4a4f1_row0_col5\" class=\"data row0 col5\" >0.082660</td>\n",
       "      <td id=\"T_4a4f1_row0_col6\" class=\"data row0 col6\" >0.237976</td>\n",
       "      <td id=\"T_4a4f1_row0_col7\" class=\"data row0 col7\" >0.186418</td>\n",
       "      <td id=\"T_4a4f1_row0_col8\" class=\"data row0 col8\" >-0.016071</td>\n",
       "      <td id=\"T_4a4f1_row0_col9\" class=\"data row0 col9\" >-0.154558</td>\n",
       "    </tr>\n",
       "    <tr>\n",
       "      <th id=\"T_4a4f1_level0_row1\" class=\"row_heading level0 row1\" >pclass</th>\n",
       "      <td id=\"T_4a4f1_row1_col0\" class=\"data row1 col0\" >-0.312469</td>\n",
       "      <td id=\"T_4a4f1_row1_col1\" class=\"data row1 col1\" >1.000000</td>\n",
       "      <td id=\"T_4a4f1_row1_col2\" class=\"data row1 col2\" >0.124617</td>\n",
       "      <td id=\"T_4a4f1_row1_col3\" class=\"data row1 col3\" >-0.365646</td>\n",
       "      <td id=\"T_4a4f1_row1_col4\" class=\"data row1 col4\" >0.060832</td>\n",
       "      <td id=\"T_4a4f1_row1_col5\" class=\"data row1 col5\" >0.018322</td>\n",
       "      <td id=\"T_4a4f1_row1_col6\" class=\"data row1 col6\" >-0.572581</td>\n",
       "      <td id=\"T_4a4f1_row1_col7\" class=\"data row1 col7\" >-0.274746</td>\n",
       "      <td id=\"T_4a4f1_row1_col8\" class=\"data row1 col8\" >0.230491</td>\n",
       "      <td id=\"T_4a4f1_row1_col9\" class=\"data row1 col9\" >0.096335</td>\n",
       "    </tr>\n",
       "    <tr>\n",
       "      <th id=\"T_4a4f1_level0_row2\" class=\"row_heading level0 row2\" >sex</th>\n",
       "      <td id=\"T_4a4f1_row2_col0\" class=\"data row2 col0\" >-0.528693</td>\n",
       "      <td id=\"T_4a4f1_row2_col1\" class=\"data row2 col1\" >0.124617</td>\n",
       "      <td id=\"T_4a4f1_row2_col2\" class=\"data row2 col2\" >1.000000</td>\n",
       "      <td id=\"T_4a4f1_row2_col3\" class=\"data row2 col3\" >0.070561</td>\n",
       "      <td id=\"T_4a4f1_row2_col4\" class=\"data row2 col4\" >-0.109609</td>\n",
       "      <td id=\"T_4a4f1_row2_col5\" class=\"data row2 col5\" >-0.213125</td>\n",
       "      <td id=\"T_4a4f1_row2_col6\" class=\"data row2 col6\" >-0.176672</td>\n",
       "      <td id=\"T_4a4f1_row2_col7\" class=\"data row2 col7\" >-0.071447</td>\n",
       "      <td id=\"T_4a4f1_row2_col8\" class=\"data row2 col8\" >-0.088651</td>\n",
       "      <td id=\"T_4a4f1_row2_col9\" class=\"data row2 col9\" >0.119504</td>\n",
       "    </tr>\n",
       "    <tr>\n",
       "      <th id=\"T_4a4f1_level0_row3\" class=\"row_heading level0 row3\" >age</th>\n",
       "      <td id=\"T_4a4f1_row3_col0\" class=\"data row3 col0\" >-0.056540</td>\n",
       "      <td id=\"T_4a4f1_row3_col1\" class=\"data row3 col1\" >-0.365646</td>\n",
       "      <td id=\"T_4a4f1_row3_col2\" class=\"data row3 col2\" >0.070561</td>\n",
       "      <td id=\"T_4a4f1_row3_col3\" class=\"data row3 col3\" >1.000000</td>\n",
       "      <td id=\"T_4a4f1_row3_col4\" class=\"data row3 col4\" >-0.193650</td>\n",
       "      <td id=\"T_4a4f1_row3_col5\" class=\"data row3 col5\" >-0.133658</td>\n",
       "      <td id=\"T_4a4f1_row3_col6\" class=\"data row3 col6\" >0.174215</td>\n",
       "      <td id=\"T_4a4f1_row3_col7\" class=\"data row3 col7\" >0.082499</td>\n",
       "      <td id=\"T_4a4f1_row3_col8\" class=\"data row3 col8\" >-0.016826</td>\n",
       "      <td id=\"T_4a4f1_row3_col9\" class=\"data row3 col9\" >-0.062225</td>\n",
       "    </tr>\n",
       "    <tr>\n",
       "      <th id=\"T_4a4f1_level0_row4\" class=\"row_heading level0 row4\" >sibsp</th>\n",
       "      <td id=\"T_4a4f1_row4_col0\" class=\"data row4 col0\" >-0.027825</td>\n",
       "      <td id=\"T_4a4f1_row4_col1\" class=\"data row4 col1\" >0.060832</td>\n",
       "      <td id=\"T_4a4f1_row4_col2\" class=\"data row4 col2\" >-0.109609</td>\n",
       "      <td id=\"T_4a4f1_row4_col3\" class=\"data row4 col3\" >-0.193650</td>\n",
       "      <td id=\"T_4a4f1_row4_col4\" class=\"data row4 col4\" >1.000000</td>\n",
       "      <td id=\"T_4a4f1_row4_col5\" class=\"data row4 col5\" >0.373587</td>\n",
       "      <td id=\"T_4a4f1_row4_col6\" class=\"data row4 col6\" >0.154514</td>\n",
       "      <td id=\"T_4a4f1_row4_col7\" class=\"data row4 col7\" >-0.050068</td>\n",
       "      <td id=\"T_4a4f1_row4_col8\" class=\"data row4 col8\" >-0.048678</td>\n",
       "      <td id=\"T_4a4f1_row4_col9\" class=\"data row4 col9\" >0.075198</td>\n",
       "    </tr>\n",
       "    <tr>\n",
       "      <th id=\"T_4a4f1_level0_row5\" class=\"row_heading level0 row5\" >parch</th>\n",
       "      <td id=\"T_4a4f1_row5_col0\" class=\"data row5 col0\" >0.082660</td>\n",
       "      <td id=\"T_4a4f1_row5_col1\" class=\"data row5 col1\" >0.018322</td>\n",
       "      <td id=\"T_4a4f1_row5_col2\" class=\"data row5 col2\" >-0.213125</td>\n",
       "      <td id=\"T_4a4f1_row5_col3\" class=\"data row5 col3\" >-0.133658</td>\n",
       "      <td id=\"T_4a4f1_row5_col4\" class=\"data row5 col4\" >0.373587</td>\n",
       "      <td id=\"T_4a4f1_row5_col5\" class=\"data row5 col5\" >1.000000</td>\n",
       "      <td id=\"T_4a4f1_row5_col6\" class=\"data row5 col6\" >0.216161</td>\n",
       "      <td id=\"T_4a4f1_row5_col7\" class=\"data row5 col7\" >-0.010287</td>\n",
       "      <td id=\"T_4a4f1_row5_col8\" class=\"data row5 col8\" >-0.100943</td>\n",
       "      <td id=\"T_4a4f1_row5_col9\" class=\"data row5 col9\" >0.073258</td>\n",
       "    </tr>\n",
       "    <tr>\n",
       "      <th id=\"T_4a4f1_level0_row6\" class=\"row_heading level0 row6\" >fare</th>\n",
       "      <td id=\"T_4a4f1_row6_col0\" class=\"data row6 col0\" >0.237976</td>\n",
       "      <td id=\"T_4a4f1_row6_col1\" class=\"data row6 col1\" >-0.572581</td>\n",
       "      <td id=\"T_4a4f1_row6_col2\" class=\"data row6 col2\" >-0.176672</td>\n",
       "      <td id=\"T_4a4f1_row6_col3\" class=\"data row6 col3\" >0.174215</td>\n",
       "      <td id=\"T_4a4f1_row6_col4\" class=\"data row6 col4\" >0.154514</td>\n",
       "      <td id=\"T_4a4f1_row6_col5\" class=\"data row6 col5\" >0.216161</td>\n",
       "      <td id=\"T_4a4f1_row6_col6\" class=\"data row6 col6\" >1.000000</td>\n",
       "      <td id=\"T_4a4f1_row6_col7\" class=\"data row6 col7\" >0.282665</td>\n",
       "      <td id=\"T_4a4f1_row6_col8\" class=\"data row6 col8\" >-0.133704</td>\n",
       "      <td id=\"T_4a4f1_row6_col9\" class=\"data row6 col9\" >-0.164856</td>\n",
       "    </tr>\n",
       "    <tr>\n",
       "      <th id=\"T_4a4f1_level0_row7\" class=\"row_heading level0 row7\" >embarked_C</th>\n",
       "      <td id=\"T_4a4f1_row7_col0\" class=\"data row7 col0\" >0.186418</td>\n",
       "      <td id=\"T_4a4f1_row7_col1\" class=\"data row7 col1\" >-0.274746</td>\n",
       "      <td id=\"T_4a4f1_row7_col2\" class=\"data row7 col2\" >-0.071447</td>\n",
       "      <td id=\"T_4a4f1_row7_col3\" class=\"data row7 col3\" >0.082499</td>\n",
       "      <td id=\"T_4a4f1_row7_col4\" class=\"data row7 col4\" >-0.050068</td>\n",
       "      <td id=\"T_4a4f1_row7_col5\" class=\"data row7 col5\" >-0.010287</td>\n",
       "      <td id=\"T_4a4f1_row7_col6\" class=\"data row7 col6\" >0.282665</td>\n",
       "      <td id=\"T_4a4f1_row7_col7\" class=\"data row7 col7\" >1.000000</td>\n",
       "      <td id=\"T_4a4f1_row7_col8\" class=\"data row7 col8\" >-0.164932</td>\n",
       "      <td id=\"T_4a4f1_row7_col9\" class=\"data row7 col9\" >-0.779058</td>\n",
       "    </tr>\n",
       "    <tr>\n",
       "      <th id=\"T_4a4f1_level0_row8\" class=\"row_heading level0 row8\" >embarked_Q</th>\n",
       "      <td id=\"T_4a4f1_row8_col0\" class=\"data row8 col0\" >-0.016071</td>\n",
       "      <td id=\"T_4a4f1_row8_col1\" class=\"data row8 col1\" >0.230491</td>\n",
       "      <td id=\"T_4a4f1_row8_col2\" class=\"data row8 col2\" >-0.088651</td>\n",
       "      <td id=\"T_4a4f1_row8_col3\" class=\"data row8 col3\" >-0.016826</td>\n",
       "      <td id=\"T_4a4f1_row8_col4\" class=\"data row8 col4\" >-0.048678</td>\n",
       "      <td id=\"T_4a4f1_row8_col5\" class=\"data row8 col5\" >-0.100943</td>\n",
       "      <td id=\"T_4a4f1_row8_col6\" class=\"data row8 col6\" >-0.133704</td>\n",
       "      <td id=\"T_4a4f1_row8_col7\" class=\"data row8 col7\" >-0.164932</td>\n",
       "      <td id=\"T_4a4f1_row8_col8\" class=\"data row8 col8\" >1.000000</td>\n",
       "      <td id=\"T_4a4f1_row8_col9\" class=\"data row8 col9\" >-0.489874</td>\n",
       "    </tr>\n",
       "    <tr>\n",
       "      <th id=\"T_4a4f1_level0_row9\" class=\"row_heading level0 row9\" >embarked_S</th>\n",
       "      <td id=\"T_4a4f1_row9_col0\" class=\"data row9 col0\" >-0.154558</td>\n",
       "      <td id=\"T_4a4f1_row9_col1\" class=\"data row9 col1\" >0.096335</td>\n",
       "      <td id=\"T_4a4f1_row9_col2\" class=\"data row9 col2\" >0.119504</td>\n",
       "      <td id=\"T_4a4f1_row9_col3\" class=\"data row9 col3\" >-0.062225</td>\n",
       "      <td id=\"T_4a4f1_row9_col4\" class=\"data row9 col4\" >0.075198</td>\n",
       "      <td id=\"T_4a4f1_row9_col5\" class=\"data row9 col5\" >0.073258</td>\n",
       "      <td id=\"T_4a4f1_row9_col6\" class=\"data row9 col6\" >-0.164856</td>\n",
       "      <td id=\"T_4a4f1_row9_col7\" class=\"data row9 col7\" >-0.779058</td>\n",
       "      <td id=\"T_4a4f1_row9_col8\" class=\"data row9 col8\" >-0.489874</td>\n",
       "      <td id=\"T_4a4f1_row9_col9\" class=\"data row9 col9\" >1.000000</td>\n",
       "    </tr>\n",
       "  </tbody>\n",
       "</table>\n"
      ],
      "text/plain": [
       "<pandas.io.formats.style.Styler at 0x7f39684d6730>"
      ]
     },
     "execution_count": 60,
     "metadata": {},
     "output_type": "execute_result"
    }
   ],
   "source": [
    "# Build a correlation matrix\n",
    "corr = titanic.corr()\n",
    "corr.style.background_gradient(cmap='coolwarm')"
   ]
  },
  {
   "cell_type": "code",
   "execution_count": 61,
   "metadata": {
    "scrolled": true
   },
   "outputs": [
    {
     "data": {
      "text/plain": [
       "<AxesSubplot: >"
      ]
     },
     "execution_count": 61,
     "metadata": {},
     "output_type": "execute_result"
    },
    {
     "data": {
      "image/png": "[encoded data removed]",
      "text/plain": [
       "<Figure size 1500x1500 with 2 Axes>"
      ]
     },
     "metadata": {},
     "output_type": "display_data"
    }
   ],
   "source": [
    "# and a heatmap to help visualize the relationships\n",
    "plt.figure(figsize=[15,15])\n",
    "sns.heatmap(titanic.corr(), linewidths=5, annot=True)"
   ]
  },
  {
   "cell_type": "markdown",
   "metadata": {},
   "source": [
    "*All the data is now in float32 or int32 format, and structured ready for the training phase. The first column 'survived' is the label for the supervised learning model. \n",
    "For completeness, save this to the local hard disk. \n",
    "This means the model training can be re-run from this point at any time.*"
   ]
  },
  {
   "cell_type": "code",
   "execution_count": 62,
   "metadata": {},
   "outputs": [],
   "source": [
    "# Save the cleaned data to the local drive.\n",
    "file_target = '{}/titanic_processed.csv'.format(data_prefix)\n",
    "titanic.to_csv(file_target, index= False)"
   ]
  },
  {
   "cell_type": "markdown",
   "metadata": {},
   "source": [
    "## Model Training and Tuning ##"
   ]
  },
  {
   "cell_type": "markdown",
   "metadata": {},
   "source": [
    "*Start by reading the cleaned data from the local hard disk*"
   ]
  },
  {
   "cell_type": "code",
   "execution_count": 63,
   "metadata": {},
   "outputs": [],
   "source": [
    "# Read the cleaned data off the local drive ready to present it to the model.\n",
    "file_source = '{}/titanic_processed.csv'.format(data_prefix)\n",
    "titanic_processed = pd.read_csv(file_source)"
   ]
  },
  {
   "cell_type": "code",
   "execution_count": 64,
   "metadata": {},
   "outputs": [
    {
     "data": {
      "text/html": [
       "<div>\n",
       "<style scoped>\n",
       "    .dataframe tbody tr th:only-of-type {\n",
       "        vertical-align: middle;\n",
       "    }\n",
       "\n",
       "    .dataframe tbody tr th {\n",
       "        vertical-align: top;\n",
       "    }\n",
       "\n",
       "    .dataframe thead th {\n",
       "        text-align: right;\n",
       "    }\n",
       "</style>\n",
       "<table border=\"1\" class=\"dataframe\">\n",
       "  <thead>\n",
       "    <tr style=\"text-align: right;\">\n",
       "      <th></th>\n",
       "      <th>survived</th>\n",
       "      <th>pclass</th>\n",
       "      <th>sex</th>\n",
       "      <th>age</th>\n",
       "      <th>sibsp</th>\n",
       "      <th>parch</th>\n",
       "      <th>fare</th>\n",
       "      <th>embarked_C</th>\n",
       "      <th>embarked_Q</th>\n",
       "      <th>embarked_S</th>\n",
       "    </tr>\n",
       "  </thead>\n",
       "  <tbody>\n",
       "    <tr>\n",
       "      <th>0</th>\n",
       "      <td>1</td>\n",
       "      <td>1</td>\n",
       "      <td>0</td>\n",
       "      <td>29.00</td>\n",
       "      <td>0</td>\n",
       "      <td>0</td>\n",
       "      <td>211.338</td>\n",
       "      <td>0</td>\n",
       "      <td>0</td>\n",
       "      <td>1</td>\n",
       "    </tr>\n",
       "    <tr>\n",
       "      <th>1</th>\n",
       "      <td>1</td>\n",
       "      <td>1</td>\n",
       "      <td>1</td>\n",
       "      <td>0.92</td>\n",
       "      <td>1</td>\n",
       "      <td>2</td>\n",
       "      <td>151.550</td>\n",
       "      <td>0</td>\n",
       "      <td>0</td>\n",
       "      <td>1</td>\n",
       "    </tr>\n",
       "    <tr>\n",
       "      <th>2</th>\n",
       "      <td>0</td>\n",
       "      <td>1</td>\n",
       "      <td>0</td>\n",
       "      <td>2.00</td>\n",
       "      <td>1</td>\n",
       "      <td>2</td>\n",
       "      <td>151.550</td>\n",
       "      <td>0</td>\n",
       "      <td>0</td>\n",
       "      <td>1</td>\n",
       "    </tr>\n",
       "    <tr>\n",
       "      <th>3</th>\n",
       "      <td>0</td>\n",
       "      <td>1</td>\n",
       "      <td>1</td>\n",
       "      <td>30.00</td>\n",
       "      <td>1</td>\n",
       "      <td>2</td>\n",
       "      <td>151.550</td>\n",
       "      <td>0</td>\n",
       "      <td>0</td>\n",
       "      <td>1</td>\n",
       "    </tr>\n",
       "    <tr>\n",
       "      <th>4</th>\n",
       "      <td>0</td>\n",
       "      <td>1</td>\n",
       "      <td>0</td>\n",
       "      <td>25.00</td>\n",
       "      <td>1</td>\n",
       "      <td>2</td>\n",
       "      <td>151.550</td>\n",
       "      <td>0</td>\n",
       "      <td>0</td>\n",
       "      <td>1</td>\n",
       "    </tr>\n",
       "  </tbody>\n",
       "</table>\n",
       "</div>"
      ],
      "text/plain": [
       "   survived  pclass  sex    age  sibsp  parch     fare  embarked_C  \\\n",
       "0         1       1    0  29.00      0      0  211.338           0   \n",
       "1         1       1    1   0.92      1      2  151.550           0   \n",
       "2         0       1    0   2.00      1      2  151.550           0   \n",
       "3         0       1    1  30.00      1      2  151.550           0   \n",
       "4         0       1    0  25.00      1      2  151.550           0   \n",
       "\n",
       "   embarked_Q  embarked_S  \n",
       "0           0           1  \n",
       "1           0           1  \n",
       "2           0           1  \n",
       "3           0           1  \n",
       "4           0           1  "
      ]
     },
     "execution_count": 64,
     "metadata": {},
     "output_type": "execute_result"
    }
   ],
   "source": [
    "# quick check of what we have...\n",
    "titanic_processed.head()"
   ]
  },
  {
   "cell_type": "code",
   "execution_count": 65,
   "metadata": {},
   "outputs": [],
   "source": [
    "# Get the target column (outputs) or label from the first column\n",
    "y = titanic_processed.values[:, 0].astype(np.float32)\n",
    "\n",
    "# Get the feature values (inputs) except for the label column\n",
    "X = titanic_processed.values[:,1:].astype(np.float32)"
   ]
  },
  {
   "cell_type": "code",
   "execution_count": 66,
   "metadata": {},
   "outputs": [
    {
     "name": "stdout",
     "output_type": "stream",
     "text": [
      "Shape of y (the labels)  : (1309,)\n",
      "Shape of X (the features): (1309, 9)\n"
     ]
    }
   ],
   "source": [
    "print(f\"Shape of y (the labels)  : {y.shape}\")\n",
    "print(f\"Shape of X (the features): {X.shape}\") "
   ]
  },
  {
   "cell_type": "code",
   "execution_count": 67,
   "metadata": {},
   "outputs": [
    {
     "name": "stdout",
     "output_type": "stream",
     "text": [
      "Shape of train_features is: (1047, 9)\n",
      "Length of train_labels is: (1047,)\n",
      "Shape of val_features is: (131, 9)\n",
      "Length of val_labels is: (131,)\n",
      "Shape of test_features is: (131, 9)\n",
      "Length of test_labels is: (131,)\n"
     ]
    }
   ],
   "source": [
    "# Seed the random shuffling of data\n",
    "np.random.seed(8675309)\n",
    "\n",
    "# Get 80% of the data for training; the remaining 20% will be for validation and test\n",
    "train_features, test_features, train_labels, test_labels = train_test_split(\n",
    "    X, y, test_size=0.2,shuffle=True)\n",
    "\n",
    "# Split the remaining 20% of data as 50% test and 50% validation\n",
    "test_features, val_features, test_labels, val_labels = train_test_split(\n",
    "    test_features, test_labels, test_size=0.5,shuffle=True)\n",
    "\n",
    "print(f\"Shape of train_features is: {train_features.shape}\") \n",
    "print(f\"Length of train_labels is: {train_labels.shape}\")\n",
    "print(f\"Shape of val_features is: {val_features.shape}\")\n",
    "print(f\"Length of val_labels is: {val_labels.shape}\")\n",
    "print(f\"Shape of test_features is: {test_features.shape}\")\n",
    "print(f\"Length of test_labels is: {test_labels.shape}\")"
   ]
  },
  {
   "cell_type": "markdown",
   "metadata": {},
   "source": [
    "*As we are running this notebook in Amazon SageMaker Studio Lab ('SMSL'), we are not able to directly call the SageMaker Linear Learner estimator. Therefore, we need to use the SKLEARN Linear Learner algorithm.*"
   ]
  },
  {
   "cell_type": "code",
   "execution_count": 68,
   "metadata": {},
   "outputs": [],
   "source": [
    "# Define the SKLearn LinearLearner object to train the model\n",
    "# Note that the SageMaker Linear Learner algorithm allows us to SET Hyperparameters,\n",
    "# whereas the SKLearn LinearRegression does not allow this, so we just take the defaults.\n",
    "binary_estimator = linear_model.LinearRegression()"
   ]
  },
  {
   "cell_type": "code",
   "execution_count": 69,
   "metadata": {},
   "outputs": [
    {
     "data": {
      "text/html": [
       "<style>#sk-container-id-1 {color: black;background-color: white;}#sk-container-id-1 pre{padding: 0;}#sk-container-id-1 div.sk-toggleable {background-color: white;}#sk-container-id-1 label.sk-toggleable__label {cursor: pointer;display: block;width: 100%;margin-bottom: 0;padding: 0.3em;box-sizing: border-box;text-align: center;}#sk-container-id-1 label.sk-toggleable__label-arrow:before {content: \"▸\";float: left;margin-right: 0.25em;color: #696969;}#sk-container-id-1 label.sk-toggleable__label-arrow:hover:before {color: black;}#sk-container-id-1 div.sk-estimator:hover label.sk-toggleable__label-arrow:before {color: black;}#sk-container-id-1 div.sk-toggleable__content {max-height: 0;max-width: 0;overflow: hidden;text-align: left;background-color: #f0f8ff;}#sk-container-id-1 div.sk-toggleable__content pre {margin: 0.2em;color: black;border-radius: 0.25em;background-color: #f0f8ff;}#sk-container-id-1 input.sk-toggleable__control:checked~div.sk-toggleable__content {max-height: 200px;max-width: 100%;overflow: auto;}#sk-container-id-1 input.sk-toggleable__control:checked~label.sk-toggleable__label-arrow:before {content: \"▾\";}#sk-container-id-1 div.sk-estimator input.sk-toggleable__control:checked~label.sk-toggleable__label {background-color: #d4ebff;}#sk-container-id-1 div.sk-label input.sk-toggleable__control:checked~label.sk-toggleable__label {background-color: #d4ebff;}#sk-container-id-1 input.sk-hidden--visually {border: 0;clip: rect(1px 1px 1px 1px);clip: rect(1px, 1px, 1px, 1px);height: 1px;margin: -1px;overflow: hidden;padding: 0;position: absolute;width: 1px;}#sk-container-id-1 div.sk-estimator {font-family: monospace;background-color: #f0f8ff;border: 1px dotted black;border-radius: 0.25em;box-sizing: border-box;margin-bottom: 0.5em;}#sk-container-id-1 div.sk-estimator:hover {background-color: #d4ebff;}#sk-container-id-1 div.sk-parallel-item::after {content: \"\";width: 100%;border-bottom: 1px solid gray;flex-grow: 1;}#sk-container-id-1 div.sk-label:hover label.sk-toggleable__label {background-color: #d4ebff;}#sk-container-id-1 div.sk-serial::before {content: \"\";position: absolute;border-left: 1px solid gray;box-sizing: border-box;top: 0;bottom: 0;left: 50%;z-index: 0;}#sk-container-id-1 div.sk-serial {display: flex;flex-direction: column;align-items: center;background-color: white;padding-right: 0.2em;padding-left: 0.2em;position: relative;}#sk-container-id-1 div.sk-item {position: relative;z-index: 1;}#sk-container-id-1 div.sk-parallel {display: flex;align-items: stretch;justify-content: center;background-color: white;position: relative;}#sk-container-id-1 div.sk-item::before, #sk-container-id-1 div.sk-parallel-item::before {content: \"\";position: absolute;border-left: 1px solid gray;box-sizing: border-box;top: 0;bottom: 0;left: 50%;z-index: -1;}#sk-container-id-1 div.sk-parallel-item {display: flex;flex-direction: column;z-index: 1;position: relative;background-color: white;}#sk-container-id-1 div.sk-parallel-item:first-child::after {align-self: flex-end;width: 50%;}#sk-container-id-1 div.sk-parallel-item:last-child::after {align-self: flex-start;width: 50%;}#sk-container-id-1 div.sk-parallel-item:only-child::after {width: 0;}#sk-container-id-1 div.sk-dashed-wrapped {border: 1px dashed gray;margin: 0 0.4em 0.5em 0.4em;box-sizing: border-box;padding-bottom: 0.4em;background-color: white;}#sk-container-id-1 div.sk-label label {font-family: monospace;font-weight: bold;display: inline-block;line-height: 1.2em;}#sk-container-id-1 div.sk-label-container {text-align: center;}#sk-container-id-1 div.sk-container {/* jupyter's `normalize.less` sets `[hidden] { display: none; }` but bootstrap.min.css set `[hidden] { display: none !important; }` so we also need the `!important` here to be able to override the default hidden behavior on the sphinx rendered scikit-learn.org. See: https://github.com/scikit-learn/scikit-learn/issues/21755 */display: inline-block !important;position: relative;}#sk-container-id-1 div.sk-text-repr-fallback {display: none;}</style><div id=\"sk-container-id-1\" class=\"sk-top-container\"><div class=\"sk-text-repr-fallback\"><pre>LinearRegression()</pre><b>In a Jupyter environment, please rerun this cell to show the HTML representation or trust the notebook. <br />On GitHub, the HTML representation is unable to render, please try loading this page with nbviewer.org.</b></div><div class=\"sk-container\" hidden><div class=\"sk-item\"><div class=\"sk-estimator sk-toggleable\"><input class=\"sk-toggleable__control sk-hidden--visually\" id=\"sk-estimator-id-1\" type=\"checkbox\" checked><label for=\"sk-estimator-id-1\" class=\"sk-toggleable__label sk-toggleable__label-arrow\">LinearRegression</label><div class=\"sk-toggleable__content\"><pre>LinearRegression()</pre></div></div></div></div></div>"
      ],
      "text/plain": [
       "LinearRegression()"
      ]
     },
     "execution_count": 69,
     "metadata": {},
     "output_type": "execute_result"
    }
   ],
   "source": [
    "# Now train the model, by fitting together the Estimator above, and the inputs.\n",
    "# The following code references the numpy arrays in memory for Linear Learner\n",
    "#\n",
    "binary_estimator.fit(train_features, train_labels)\n"
   ]
  },
  {
   "cell_type": "code",
   "execution_count": 70,
   "metadata": {},
   "outputs": [],
   "source": [
    "# Lets have a look at the analytics from this training\n",
    "\n",
    "# Make predictions using the testing set\n",
    "test_predictions = binary_estimator.predict(test_features)\n"
   ]
  },
  {
   "cell_type": "code",
   "execution_count": 71,
   "metadata": {},
   "outputs": [
    {
     "name": "stdout",
     "output_type": "stream",
     "text": [
      "Coefficients: \n",
      " [-1.6338590e-01 -4.7791681e-01 -6.0204621e-03 -4.4082861e-02\n",
      "  5.7949177e-03  3.9137587e-05  5.8485251e-02 -5.6141078e-05\n",
      " -5.8429103e-02]\n",
      "Mean squared error: 0.11\n",
      "Coefficient of determination: 0.49\n"
     ]
    }
   ],
   "source": [
    "# The coefficients\n",
    "print(\"Coefficients: \\n\", binary_estimator.coef_)\n",
    "# The mean squared error\n",
    "print(\"Mean squared error: %.2f\" % mean_squared_error(test_labels, test_predictions))\n",
    "# The coefficient of determination: 1 is perfect prediction\n",
    "print(\"Coefficient of determination: %.2f\" % r2_score(test_labels, test_predictions))\n"
   ]
  },
  {
   "cell_type": "markdown",
   "metadata": {},
   "source": [
    "*For the first run of this model, there are reasonable values.*"
   ]
  },
  {
   "cell_type": "markdown",
   "metadata": {},
   "source": [
    "## Model Evaluation ##"
   ]
  },
  {
   "cell_type": "markdown",
   "metadata": {},
   "source": [
    "#### Deployment for production ####"
   ]
  },
  {
   "cell_type": "code",
   "execution_count": 72,
   "metadata": {},
   "outputs": [],
   "source": [
    "# In SageMaker, we could Deploy the model, to give us an HTTPS REST API endpoint\n",
    "# However, in this case, we are just calling the SKLearn API instead\n",
    "# So nothing to do here."
   ]
  },
  {
   "cell_type": "markdown",
   "metadata": {},
   "source": [
    "#### Model Evaluation Using Test Data  ####\n",
    "*We have some testing data available, so cycle through this to see how well the model behaves*"
   ]
  },
  {
   "cell_type": "code",
   "execution_count": 73,
   "metadata": {},
   "outputs": [],
   "source": [
    "# Function to get predictions for each batch with size of 10\n",
    "# Report on the key metrics and create a confusion matrix.\n",
    "# For binary classification, round the predictions to zero decimal places\n",
    "def predict_regression_batches(predictor, features, labels):\n",
    "    prediction_batches = [predictor.predict(batch) for batch in np.array_split(features, 10)]\n",
    "    \n",
    "    # Parse responses to extract predicted labels\n",
    "    preds = np.concatenate([np.array([x for x in batch]) for batch in prediction_batches])    \n",
    "    preds = preds.reshape((-1,)).round(decimals=0)\n",
    "    \n",
    "    # useful information:\n",
    "    print(f'No of Labels: {len(labels)}')\n",
    "    print(f'Positive Actuals {len(labels[labels == 1]  )}')\n",
    "    print(f'Negative Actuals {len(labels[labels != 1]    )}')\n",
    "\n",
    "    print(f'No of Predictions: {len(preds)}')\n",
    "    print(f'Positive Predictions {len(preds[(preds) == 1]  )}')\n",
    "    print(f'Negative Predictions {len(preds[(preds) != 1]  )}')\n",
    "    \n",
    "    #print(f'Labels: {labels}')\n",
    "    #print(f'Preds: {preds}')\n",
    "    print('')\n",
    "    \n",
    "    # Calculate mean squared error\n",
    "    mse = sum((preds - labels)**2) / len(preds)\n",
    "    print(f'Mean Square Error: {mse}')\n",
    "  \n",
    "    # Calculate accuracy, precision, and recall\n",
    "    accuracy = 100*((preds == labels).sum() / len(labels))\n",
    "    print('Accuracy: {:0.3f} %'.format(accuracy))\n",
    "    \n",
    "    # Calculate precision\n",
    "    precision = 100*((preds[preds == 1] == labels[preds == 1]).sum() / len(preds[preds == 1]))\n",
    "    print('Precision: {:0.3f} %'.format(precision))\n",
    "    \n",
    "    # Calculate recall\n",
    "    recall = 100*(preds[preds == 1] == labels[preds == 1]).sum() / len(labels[labels == 1])\n",
    "    print('Recall: {:0.3f} %'.format(recall))\n",
    "    \n",
    "    # And plot a confusion matrix\n",
    "    confusion_matrix = pd.crosstab(index=labels, columns=np.round(preds), rownames=['Actuals'], colnames=['Predictions']).astype(int)\n",
    "    plt.figure(figsize = (5,5))\n",
    "    sns.heatmap(confusion_matrix, annot=True, fmt='.2f', cmap=\"YlGnBu\").set_title('Confusion Matrix') "
   ]
  },
  {
   "cell_type": "code",
   "execution_count": 74,
   "metadata": {},
   "outputs": [
    {
     "name": "stdout",
     "output_type": "stream",
     "text": [
      "No of Labels: 131\n",
      "Positive Actuals 42\n",
      "Negative Actuals 89\n",
      "No of Predictions: 131\n",
      "Positive Predictions 53\n",
      "Negative Predictions 78\n",
      "\n",
      "Mean Square Error: 0.17557251908396945\n",
      "Accuracy: 82.443 %\n",
      "Precision: 67.925 %\n",
      "Recall: 85.714 %\n"
     ]
    },
    {
     "data": {
      "image/png": "[encoded data removed]",
      "text/plain": [
       "<Figure size 500x500 with 2 Axes>"
      ]
     },
     "metadata": {},
     "output_type": "display_data"
    }
   ],
   "source": [
    "# batch predictions using the test data\n",
    "test_predictions = predict_regression_batches(binary_estimator, test_features, test_labels)"
   ]
  },
  {
   "cell_type": "markdown",
   "metadata": {},
   "source": [
    "#### Prepare Testing Interface ####"
   ]
  },
  {
   "cell_type": "code",
   "execution_count": 75,
   "metadata": {},
   "outputs": [],
   "source": [
    "# In SageMaker, we create the interface to the sagemaker runtime\n",
    "# this allows us to call the REST api directly\n",
    "# But in this case, we will just use the SKLearn predict API instead\n"
   ]
  },
  {
   "cell_type": "code",
   "execution_count": 76,
   "metadata": {},
   "outputs": [],
   "source": [
    "# Process actual case studies by sending in an array of variables for inferencing.\n",
    "# Define a function to call the prediction\n",
    "# Return the prediction value\n",
    "# Unlike the SageMaker API, this API only returns the prediction, no other information.\n",
    "def predict_survivor(paramarray):\n",
    "    \n",
    "    print(\"calling endpoint\")\n",
    "    response = binary_estimator.predict(np.array(paramarray).reshape(1,-1))\n",
    "\n",
    "    print(\"response found\")\n",
    "    pred= response\n",
    "    return pred"
   ]
  },
  {
   "attachments": {
    "margaretbrown.jpg": {
     "image/jpeg": "[encoded data removed]"
    }
   },
   "cell_type": "markdown",
   "metadata": {},
   "source": [
    "#### Case Study: Molly Brown ####\n",
    "Margaret (\"Molly\") Brown (née Tobin; July 18, 1867 – October 26, 1932), posthumously known as \"The Unsinkable Molly Brown\", was an American socialite and philanthropist. She unsuccessfully encouraged the crew in Lifeboat No. 6 to return to the debris field of the 1912 sinking of RMS Titanic to look for survivors. During her lifetime, her friends called her \"Maggie\", but even by her death, obituaries referred to her as the \"Unsinkable Molly Brown\". \n",
    "![margaretbrown.jpg](attachment:margaretbrown.jpg)\n",
    "Reference: https://en.wikipedia.org/wiki/Margaret_Brown"
   ]
  },
  {
   "cell_type": "raw",
   "metadata": {},
   "source": [
    "Data from the original Titanic dataset:\n",
    "    Survived: 1\n",
    "    pclass: 1\n",
    "    sex: 0\n",
    "    age: 44\n",
    "    sibsp: 0\n",
    "    parch 0\n",
    "    fare: 27.7208\n",
    "    embarked: C"
   ]
  },
  {
   "cell_type": "code",
   "execution_count": 77,
   "metadata": {},
   "outputs": [
    {
     "name": "stdout",
     "output_type": "stream",
     "text": [
      "calling endpoint\n",
      "response found\n"
     ]
    }
   ],
   "source": [
    "# Ask the model to predict that Molly survived.\n",
    "molly=predict_survivor([1,0,44,0,0,27.7208,1,0,0])"
   ]
  },
  {
   "cell_type": "code",
   "execution_count": 78,
   "metadata": {},
   "outputs": [
    {
     "name": "stdout",
     "output_type": "stream",
     "text": [
      "[0.92889339]\n"
     ]
    }
   ],
   "source": [
    "print(molly)"
   ]
  },
  {
   "cell_type": "markdown",
   "metadata": {},
   "source": [
    "*The model predicts that Molly would have survived*"
   ]
  },
  {
   "attachments": {
    "johnastor.jpg": {
     "image/jpeg": "[encoded data removed]"
    }
   },
   "cell_type": "markdown",
   "metadata": {},
   "source": [
    "#### Case Study: John Jacob Astor IV ####\n",
    "John Jacob \"Jack\" Astor IV (July 13, 1864 – April 15, 1912) was an American business magnate, real estate developer, investor, writer, lieutenant colonel in the Spanish–American War, and a prominent member of the Astor family.\n",
    "Astor died in the sinking of RMS Titanic during the early hours of April 15, 1912. Astor was the richest passenger aboard the RMS Titanic and was thought to be among the richest people in the world at that time with a net worth of roughly USD 87 million when he died (equivalent to USD 2.3 billion in 2019)\n",
    "![johnastor.jpg](attachment:johnastor.jpg)\n",
    "Reference: https://en.wikipedia.org/wiki/John_Jacob_Astor_IV"
   ]
  },
  {
   "cell_type": "raw",
   "metadata": {},
   "source": [
    "Data from the original Titanic dataset:\n",
    "    Survived: 0\n",
    "    pclass: 1\n",
    "    sex: 1\n",
    "    age: 47\n",
    "    sibsp: 1\n",
    "    parch 0\n",
    "    fare: 227.525\n",
    "    embarked: C"
   ]
  },
  {
   "cell_type": "code",
   "execution_count": 79,
   "metadata": {},
   "outputs": [
    {
     "name": "stdout",
     "output_type": "stream",
     "text": [
      "calling endpoint\n",
      "response found\n"
     ]
    }
   ],
   "source": [
    "# Ask the model to predict that John Astor died.\n",
    "john=predict_survivor([1,1,47,1,0,227.525,1,0,0])"
   ]
  },
  {
   "cell_type": "code",
   "execution_count": 80,
   "metadata": {},
   "outputs": [
    {
     "name": "stdout",
     "output_type": "stream",
     "text": [
      "[0.39665219]\n"
     ]
    }
   ],
   "source": [
    "print(john)"
   ]
  },
  {
   "cell_type": "markdown",
   "metadata": {},
   "source": [
    "*This model actually predicts that John Astor would have died.*"
   ]
  },
  {
   "cell_type": "markdown",
   "metadata": {},
   "source": [
    "## Evaluation of Business Goal ##"
   ]
  },
  {
   "cell_type": "markdown",
   "metadata": {},
   "source": [
    "This is where we look at Hollywoods story, and get our model to predict the likely outcome."
   ]
  },
  {
   "attachments": {
    "leonardodicaprio.jpeg": {
     "image/jpeg": "[encoded data removed]"
    }
   },
   "cell_type": "markdown",
   "metadata": {},
   "source": [
    "#### Case Study: Jack Dawson (Leonardo di Caprio) ####\n",
    "Jack Dawson (born 1892-1912) is the deuteragonist in Titanic and the love interest of Rose DeWitt Bukater. He dies at the end of the film from hypothermia, protecting Rose by having her float on a doorframe while he stays in the water; he was only twenty years old. He is portrayed by Leonardo DiCaprio.\n",
    "Jack Dawson boarded the RMS Titanic on April 10, 1912. He was a poor third-class artist and was able to board the ship only after winning tickets in a lucky game of poker against two Swedish men with tickets and playing with his friend, Fabrizio De Rossi.\n",
    "![leonardodicaprio.jpeg](attachment:leonardodicaprio.jpeg)\n",
    "Ref: https://jamescameronstitanic.fandom.com/wiki/Jack_Dawson"
   ]
  },
  {
   "cell_type": "raw",
   "metadata": {},
   "source": [
    "Data from the film:\n",
    "    Survived: 0\n",
    "    pclass: 3\n",
    "    sex: 1\n",
    "    age: 20\n",
    "    sibsp: 0\n",
    "    parch 0\n",
    "    fare: 13.38 (Assume the average for 3rd class passengers.)\n",
    "    embarked: S"
   ]
  },
  {
   "cell_type": "code",
   "execution_count": 81,
   "metadata": {},
   "outputs": [
    {
     "name": "stdout",
     "output_type": "stream",
     "text": [
      "calling endpoint\n",
      "response found\n"
     ]
    }
   ],
   "source": [
    "# See if the model predicts that Jack Dawson would have survived.\n",
    "leonardo=predict_survivor([3,1,20,0,0,13.38,0,0,1])"
   ]
  },
  {
   "cell_type": "code",
   "execution_count": 82,
   "metadata": {},
   "outputs": [
    {
     "name": "stdout",
     "output_type": "stream",
     "text": [
      "[0.15122026]\n"
     ]
    }
   ],
   "source": [
    "print(leonardo)"
   ]
  },
  {
   "cell_type": "markdown",
   "metadata": {},
   "source": [
    "*This model correctly predicts that Jack would have died.*"
   ]
  },
  {
   "attachments": {
    "katewinslet.jpeg": {
     "image/jpeg": "[encoded data removed]"
    }
   },
   "cell_type": "markdown",
   "metadata": {},
   "source": [
    "#### Case Study: Rose DeWitt Bukater (Kate Winslet) ####\n",
    "Rose Calvert (née DeWitt-Bukater, born 1895) was an American socialite and later actress. She was born in Philadelphia in 1895, but her exact birthdate is unknown.\n",
    "On Wednesday April 10th 1912, Rose boarded the luxurious RMS Titanic in Southampton, England, at the age of 17 with her mother and her aristocratic fiancé Caledon Hockley. The trio were going home to Philadelphia, PA, in America, so Rose and Cal could get married. \n",
    "However, during the voyage she and third-class passenger Jack Dawson fell in love.\n",
    "The voyage came to an abrupt end when the ship struck ice and sank. Rose survived the ship's sinking, but Jack did not.\n",
    "She later married a man called Calvert, and had at least two children.\n",
    "![katewinslet.jpeg](attachment:katewinslet.jpeg)\n",
    "Ref: https://jamescameronstitanic.fandom.com/wiki/Rose_DeWitt_Bukater"
   ]
  },
  {
   "cell_type": "raw",
   "metadata": {},
   "source": [
    "Data from the film:\n",
    "    Survived: 1\n",
    "    pclass: 1\n",
    "    sex: 0\n",
    "    age: 17\n",
    "    sibsp: 0\n",
    "    parch 1\n",
    "    fare: 89.45 (Assume the average for first class passengers.)\n",
    "    embarked: S"
   ]
  },
  {
   "cell_type": "code",
   "execution_count": 83,
   "metadata": {},
   "outputs": [
    {
     "name": "stdout",
     "output_type": "stream",
     "text": [
      "calling endpoint\n",
      "response found\n"
     ]
    }
   ],
   "source": [
    "# See if the model predicts that Rose would have survived.\n",
    "kate=predict_survivor([1,0,17,0,1,89.45,0,0,1])"
   ]
  },
  {
   "cell_type": "code",
   "execution_count": 84,
   "metadata": {},
   "outputs": [
    {
     "name": "stdout",
     "output_type": "stream",
     "text": [
      "[0.98274237]\n"
     ]
    }
   ],
   "source": [
    "print(kate)"
   ]
  },
  {
   "cell_type": "markdown",
   "metadata": {},
   "source": [
    "*This model correctly predicts that Rose would have survived*"
   ]
  },
  {
   "cell_type": "markdown",
   "metadata": {},
   "source": [
    "# Conclusion #"
   ]
  },
  {
   "cell_type": "markdown",
   "metadata": {},
   "source": [
    "In terms of the Business Objective, there is a working model that does correctly predict that Jack (Leonardo DiCaprio) would have died on the Titanic, and Rose (Kate Winslet) would have survived if they had both really been on it in 1912."
   ]
  },
  {
   "cell_type": "markdown",
   "metadata": {},
   "source": [
    "This notebook illustrates a range of different techniques for data processing and building a Machine Learning Model. However, the process is always iterative, and there a number of next steps which could be considered."
   ]
  },
  {
   "cell_type": "markdown",
   "metadata": {},
   "source": [
    "## Possible Next Steps ##"
   ]
  },
  {
   "cell_type": "markdown",
   "metadata": {},
   "source": [
    "* Ages are fairly large numeric values: it may be better to bin these into child / young adult / adult / retired etc. rather than using a large numeric value which could bias the model.\n",
    "* The fare of '?' was replaced by the average for that class, and the '0' fares were also replaced with the average for that class: they could be replaced by the average for that class from that port of embarkation.\n",
    "* The hyperparameters are only guessswork: run a hyperparameter tuning job on this model. \n",
    "* Probabilities may be more realistic than binary surivived/died: consider using linear learner as a regression model, looking at the probabilites of survival, rather than a binary classification.\n",
    "* The algorithm may not be ideal: try replacing this with XGBoost to see if it is a better model.\n",
    "* Cabins have not been included: consider using a binning approach to indicate where on the ship people were living, as a feature to impact whether they survived.\n",
    "* Destination has not been included: consider whether this is a feature.\n",
    "* It is not clear what features are relevant: look at Principle Component Analysis to see which features could be dropped."
   ]
  },
  {
   "cell_type": "markdown",
   "metadata": {},
   "source": [
    "## SageMaker Studio Services to look at ##"
   ]
  },
  {
   "cell_type": "markdown",
   "metadata": {},
   "source": [
    "This notebook is designed to be run 'stand-alone', with no dependencies on any AWS Services.\n",
    "The recommended way to run this is to use **Amazon SageMaker Studio Lab** ('SMSL') which is a free service to enable you to run Jupyter Notebooks.\n",
    "SMSL has no dependencies on AWS on or Amazon SageMaker or Amazon SageMaker Studio."
   ]
  },
  {
   "cell_type": "markdown",
   "metadata": {},
   "source": [
    "However, instead of using SMSL, you could consider using the full AWS services, either Amazon SageMaker (to launch a Jupyter notebook), or Amazon SageMaker Studio.\n",
    "In both these cases, you can use S3 to store the original data, and model artifacts, and use the SageMaker Runtime to deploy a model for production and make inferences from it. \n",
    "The SageMaker Runtime returns JSON structured including the prediction and supporting data such as the confidence level. It also interfaces with Amazon Cloudwatch for additional metrics."
   ]
  },
  {
   "cell_type": "markdown",
   "metadata": {},
   "source": [
    "If you use the full Amazon SageMaker Studio, you can use the following services to help improve your ML productivity:"
   ]
  },
  {
   "cell_type": "markdown",
   "metadata": {},
   "source": [
    "* SageMaker Data Wrangler to automate the data processing \n",
    "* SageMaker Feature Store to store the feature information and replicate the transformation in the production pipeline\n",
    "* SageMaker Clarify to identify the contributing features to the model\n",
    "* SageMaker Pipelines to build a pipeline model based on this notebook\n",
    "* SageMaker Autopilot to automatically build, train, and tune the best machine learning models based on the data\n",
    "* SageMaker Experiments to organize, track, compare and evaluate machine learning (ML) experiments and model versions"
   ]
  },
  {
   "cell_type": "markdown",
   "metadata": {},
   "source": [
    "# Tidy up #"
   ]
  },
  {
   "cell_type": "markdown",
   "metadata": {},
   "source": [
    "This section of the notebook is designed to clean up any infrastructure lying around after we have finished."
   ]
  },
  {
   "cell_type": "markdown",
   "metadata": {},
   "source": [
    "In the case of SageMaker Studio Lab, there is no persistent infrastructure to be tidied up. \n",
    "Don't forget to delete the folder in the Jupyter Lab file system, including the 'data' folder which contains the original dataset."
   ]
  },
  {
   "cell_type": "code",
   "execution_count": null,
   "metadata": {},
   "outputs": [],
   "source": []
  }
 ],
 "metadata": {
  "kernelspec": {
   "display_name": "titanic-env:Python",
   "language": "python",
   "name": "conda-env-titanic-env-py"
  },
  "language_info": {
   "codemirror_mode": {
    "name": "ipython",
    "version": 3
   },
   "file_extension": ".py",
   "mimetype": "text/x-python",
   "name": "python",
   "nbconvert_exporter": "python",
   "pygments_lexer": "ipython3",
   "version": "3.9.15"
  }
 },
 "nbformat": 4,
 "nbformat_minor": 4
}
